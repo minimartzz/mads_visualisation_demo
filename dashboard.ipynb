{
 "cells": [
  {
   "cell_type": "markdown",
   "metadata": {},
   "source": [
    "# Interactive Dashboard with HoloViz"
   ]
  },
  {
   "cell_type": "markdown",
   "metadata": {},
   "source": [
    "| Date | User | Change Type | Remarks |  \n",
    "| ---- | ---- | ----------- | ------- |\n",
    "| 20/03/2025   | Martin | Create  | Created notebook | \n",
    "| 21/03/2025   | Martin | Update  | Completed data cleaning process | \n",
    "| 22/03/2025   | Martin | Update  | Completed initial 4 plots for visualisation | \n",
    "| 23/03/2025   | Martin | Update  | Completed dashboard and documentation | "
   ]
  },
  {
   "cell_type": "markdown",
   "metadata": {
    "vscode": {
     "languageId": "plaintext"
    }
   },
   "source": [
    "# Content\n",
    "\n",
    "* [Introduction](#introduction)\n",
    "* [Setup](#setup)\n",
    "* [The Data](#the-data)\n",
    "* [The Dashboard](#the-dashboard)\n",
    "* [Limitations](#limitations)\n",
    "* [Future Works](#future-works)"
   ]
  },
  {
   "cell_type": "markdown",
   "metadata": {},
   "source": [
    "# Introduction"
   ]
  },
  {
   "cell_type": "markdown",
   "metadata": {},
   "source": [
    "This notebook complements the associated article to create interactive dashboards using components from the HoloViz Suite, more specifically, Panel, hvPlot and HoloViews. These are data visualisations that allow for user interaction to dive deeper into the data.\n",
    "\n",
    "In this tutorial, we will perform some data cleaning prior to the visualisation tutorial and explore the Graduate Employment Survey (GES) conducted by Universities in Singapore from 2013-2022."
   ]
  },
  {
   "cell_type": "markdown",
   "metadata": {},
   "source": [
    "# Setup"
   ]
  },
  {
   "cell_type": "markdown",
   "metadata": {},
   "source": [
    "If you have `poetry` installed you can install install dependencies directly after cloning the project:\n",
    "\n",
    "```\n",
    "poetry install\n",
    "```\n",
    "\n",
    "Otherwise you can use the `requirements.txt` inside the repo using `pip` after creating a virtual environment\n",
    "\n",
    "```\n",
    "pip install -r requirements.txt\n",
    "```"
   ]
  },
  {
   "cell_type": "markdown",
   "metadata": {},
   "source": [
    "# The Data"
   ]
  },
  {
   "cell_type": "markdown",
   "metadata": {},
   "source": [
    "_More details about the data can be found in the article or from the [source](https://data.gov.sg/datasets/d_3c55210de27fcccda2ed0c63fdd2b352/view)_\n",
    "\n",
    "The Graduate Employment Survey (GES) is jointly conducted by NTU, NUS, SMU, SIT, SUTD and SUSS (Universities in Singapore) annually to survey the employment conditions of graduates about six months after their final examinations. The results are published by the Ministry of Education (MOE)\n",
    "\n",
    "Here we will perform some data cleaning to ensure a good format for visualisation later.\n",
    "\n",
    "_If you would like to skip pass this part and jump straight to the visualisation, there is a `clean()` function in the Dashboard section_"
   ]
  },
  {
   "cell_type": "code",
   "execution_count": 1,
   "metadata": {},
   "outputs": [
    {
     "name": "stdout",
     "output_type": "stream",
     "text": [
      "%opts magic unavailable (pyparsing cannot be imported)\n",
      "%compositor magic unavailable (pyparsing cannot be imported)\n"
     ]
    },
    {
     "data": {
      "text/html": [
       "<script type=\"esms-options\">{\"shimMode\": true}</script><style>*[data-root-id],\n",
       "*[data-root-id] > * {\n",
       "  box-sizing: border-box;\n",
       "  font-family: var(--jp-ui-font-family);\n",
       "  font-size: var(--jp-ui-font-size1);\n",
       "  color: var(--vscode-editor-foreground, var(--jp-ui-font-color1));\n",
       "}\n",
       "\n",
       "/* Override VSCode background color */\n",
       ".cell-output-ipywidget-background:has(\n",
       "    > .cell-output-ipywidget-background > .lm-Widget > *[data-root-id]\n",
       "  ),\n",
       ".cell-output-ipywidget-background:has(> .lm-Widget > *[data-root-id]) {\n",
       "  background-color: transparent !important;\n",
       "}\n",
       "</style>"
      ]
     },
     "metadata": {},
     "output_type": "display_data"
    },
    {
     "data": {
      "application/javascript": "(function(root) {\n  function now() {\n    return new Date();\n  }\n\n  const force = true;\n  const py_version = '3.6.3'.replace('rc', '-rc.').replace('.dev', '-dev.');\n  const reloading = false;\n  const Bokeh = root.Bokeh;\n\n  // Set a timeout for this load but only if we are not already initializing\n  if (typeof (root._bokeh_timeout) === \"undefined\" || (force || !root._bokeh_is_initializing)) {\n    root._bokeh_timeout = Date.now() + 5000;\n    root._bokeh_failed_load = false;\n  }\n\n  function run_callbacks() {\n    try {\n      root._bokeh_onload_callbacks.forEach(function(callback) {\n        if (callback != null)\n          callback();\n      });\n    } finally {\n      delete root._bokeh_onload_callbacks;\n    }\n    console.debug(\"Bokeh: all callbacks have finished\");\n  }\n\n  function load_libs(css_urls, js_urls, js_modules, js_exports, callback) {\n    if (css_urls == null) css_urls = [];\n    if (js_urls == null) js_urls = [];\n    if (js_modules == null) js_modules = [];\n    if (js_exports == null) js_exports = {};\n\n    root._bokeh_onload_callbacks.push(callback);\n\n    if (root._bokeh_is_loading > 0) {\n      // Don't load bokeh if it is still initializing\n      console.debug(\"Bokeh: BokehJS is being loaded, scheduling callback at\", now());\n      return null;\n    } else if (js_urls.length === 0 && js_modules.length === 0 && Object.keys(js_exports).length === 0) {\n      // There is nothing to load\n      run_callbacks();\n      return null;\n    }\n\n    function on_load() {\n      root._bokeh_is_loading--;\n      if (root._bokeh_is_loading === 0) {\n        console.debug(\"Bokeh: all BokehJS libraries/stylesheets loaded\");\n        run_callbacks()\n      }\n    }\n    window._bokeh_on_load = on_load\n\n    function on_error(e) {\n      const src_el = e.srcElement\n      console.error(\"failed to load \" + (src_el.href || src_el.src));\n    }\n\n    const skip = [];\n    if (window.requirejs) {\n      window.requirejs.config({'packages': {}, 'paths': {}, 'shim': {}});\n      root._bokeh_is_loading = css_urls.length + 0;\n    } else {\n      root._bokeh_is_loading = css_urls.length + js_urls.length + js_modules.length + Object.keys(js_exports).length;\n    }\n\n    const existing_stylesheets = []\n    const links = document.getElementsByTagName('link')\n    for (let i = 0; i < links.length; i++) {\n      const link = links[i]\n      if (link.href != null) {\n        existing_stylesheets.push(link.href)\n      }\n    }\n    for (let i = 0; i < css_urls.length; i++) {\n      const url = css_urls[i];\n      const escaped = encodeURI(url)\n      if (existing_stylesheets.indexOf(escaped) !== -1) {\n        on_load()\n        continue;\n      }\n      const element = document.createElement(\"link\");\n      element.onload = on_load;\n      element.onerror = on_error;\n      element.rel = \"stylesheet\";\n      element.type = \"text/css\";\n      element.href = url;\n      console.debug(\"Bokeh: injecting link tag for BokehJS stylesheet: \", url);\n      document.body.appendChild(element);\n    }    var existing_scripts = []\n    const scripts = document.getElementsByTagName('script')\n    for (let i = 0; i < scripts.length; i++) {\n      var script = scripts[i]\n      if (script.src != null) {\n        existing_scripts.push(script.src)\n      }\n    }\n    for (let i = 0; i < js_urls.length; i++) {\n      const url = js_urls[i];\n      const escaped = encodeURI(url)\n      if (skip.indexOf(escaped) !== -1 || existing_scripts.indexOf(escaped) !== -1) {\n        if (!window.requirejs) {\n          on_load();\n        }\n        continue;\n      }\n      const element = document.createElement('script');\n      element.onload = on_load;\n      element.onerror = on_error;\n      element.async = false;\n      element.src = url;\n      console.debug(\"Bokeh: injecting script tag for BokehJS library: \", url);\n      document.head.appendChild(element);\n    }\n    for (let i = 0; i < js_modules.length; i++) {\n      const url = js_modules[i];\n      const escaped = encodeURI(url)\n      if (skip.indexOf(escaped) !== -1 || existing_scripts.indexOf(escaped) !== -1) {\n        if (!window.requirejs) {\n          on_load();\n        }\n        continue;\n      }\n      var element = document.createElement('script');\n      element.onload = on_load;\n      element.onerror = on_error;\n      element.async = false;\n      element.src = url;\n      element.type = \"module\";\n      console.debug(\"Bokeh: injecting script tag for BokehJS library: \", url);\n      document.head.appendChild(element);\n    }\n    for (const name in js_exports) {\n      const url = js_exports[name];\n      const escaped = encodeURI(url)\n      if (skip.indexOf(escaped) >= 0 || root[name] != null) {\n        if (!window.requirejs) {\n          on_load();\n        }\n        continue;\n      }\n      var element = document.createElement('script');\n      element.onerror = on_error;\n      element.async = false;\n      element.type = \"module\";\n      console.debug(\"Bokeh: injecting script tag for BokehJS library: \", url);\n      element.textContent = `\n      import ${name} from \"${url}\"\n      window.${name} = ${name}\n      window._bokeh_on_load()\n      `\n      document.head.appendChild(element);\n    }\n    if (!js_urls.length && !js_modules.length) {\n      on_load()\n    }\n  };\n\n  function inject_raw_css(css) {\n    const element = document.createElement(\"style\");\n    element.appendChild(document.createTextNode(css));\n    document.body.appendChild(element);\n  }\n\n  const js_urls = [\"https://cdn.holoviz.org/panel/1.6.1/dist/bundled/reactiveesm/es-module-shims@^1.10.0/dist/es-module-shims.min.js\", \"https://cdn.bokeh.org/bokeh/release/bokeh-3.6.3.min.js\", \"https://cdn.bokeh.org/bokeh/release/bokeh-gl-3.6.3.min.js\", \"https://cdn.bokeh.org/bokeh/release/bokeh-widgets-3.6.3.min.js\", \"https://cdn.bokeh.org/bokeh/release/bokeh-tables-3.6.3.min.js\", \"https://cdn.holoviz.org/panel/1.6.1/dist/panel.min.js\"];\n  const js_modules = [];\n  const js_exports = {};\n  const css_urls = [];\n  const inline_js = [    function(Bokeh) {\n      Bokeh.set_log_level(\"info\");\n    },\nfunction(Bokeh) {} // ensure no trailing comma for IE\n  ];\n\n  function run_inline_js() {\n    if ((root.Bokeh !== undefined) || (force === true)) {\n      for (let i = 0; i < inline_js.length; i++) {\n        try {\n          inline_js[i].call(root, root.Bokeh);\n        } catch(e) {\n          if (!reloading) {\n            throw e;\n          }\n        }\n      }\n      // Cache old bokeh versions\n      if (Bokeh != undefined && !reloading) {\n        var NewBokeh = root.Bokeh;\n        if (Bokeh.versions === undefined) {\n          Bokeh.versions = new Map();\n        }\n        if (NewBokeh.version !== Bokeh.version) {\n          Bokeh.versions.set(NewBokeh.version, NewBokeh)\n        }\n        root.Bokeh = Bokeh;\n      }\n    } else if (Date.now() < root._bokeh_timeout) {\n      setTimeout(run_inline_js, 100);\n    } else if (!root._bokeh_failed_load) {\n      console.log(\"Bokeh: BokehJS failed to load within specified timeout.\");\n      root._bokeh_failed_load = true;\n    }\n    root._bokeh_is_initializing = false\n  }\n\n  function load_or_wait() {\n    // Implement a backoff loop that tries to ensure we do not load multiple\n    // versions of Bokeh and its dependencies at the same time.\n    // In recent versions we use the root._bokeh_is_initializing flag\n    // to determine whether there is an ongoing attempt to initialize\n    // bokeh, however for backward compatibility we also try to ensure\n    // that we do not start loading a newer (Panel>=1.0 and Bokeh>3) version\n    // before older versions are fully initialized.\n    if (root._bokeh_is_initializing && Date.now() > root._bokeh_timeout) {\n      // If the timeout and bokeh was not successfully loaded we reset\n      // everything and try loading again\n      root._bokeh_timeout = Date.now() + 5000;\n      root._bokeh_is_initializing = false;\n      root._bokeh_onload_callbacks = undefined;\n      root._bokeh_is_loading = 0\n      console.log(\"Bokeh: BokehJS was loaded multiple times but one version failed to initialize.\");\n      load_or_wait();\n    } else if (root._bokeh_is_initializing || (typeof root._bokeh_is_initializing === \"undefined\" && root._bokeh_onload_callbacks !== undefined)) {\n      setTimeout(load_or_wait, 100);\n    } else {\n      root._bokeh_is_initializing = true\n      root._bokeh_onload_callbacks = []\n      const bokeh_loaded = root.Bokeh != null && (root.Bokeh.version === py_version || (root.Bokeh.versions !== undefined && root.Bokeh.versions.has(py_version)));\n      if (!reloading && !bokeh_loaded) {\n        if (root.Bokeh) {\n          root.Bokeh = undefined;\n        }\n        console.debug(\"Bokeh: BokehJS not loaded, scheduling load and callback at\", now());\n      }\n      load_libs(css_urls, js_urls, js_modules, js_exports, function() {\n        console.debug(\"Bokeh: BokehJS plotting callback run at\", now());\n        run_inline_js();\n      });\n    }\n  }\n  // Give older versions of the autoload script a head-start to ensure\n  // they initialize before we start loading newer version.\n  setTimeout(load_or_wait, 100)\n}(window));",
      "application/vnd.holoviews_load.v0+json": ""
     },
     "metadata": {},
     "output_type": "display_data"
    },
    {
     "data": {
      "application/javascript": "\nif ((window.PyViz === undefined) || (window.PyViz instanceof HTMLElement)) {\n  window.PyViz = {comms: {}, comm_status:{}, kernels:{}, receivers: {}, plot_index: []}\n}\n\n\n    function JupyterCommManager() {\n    }\n\n    JupyterCommManager.prototype.register_target = function(plot_id, comm_id, msg_handler) {\n      if (window.comm_manager || ((window.Jupyter !== undefined) && (Jupyter.notebook.kernel != null))) {\n        var comm_manager = window.comm_manager || Jupyter.notebook.kernel.comm_manager;\n        comm_manager.register_target(comm_id, function(comm) {\n          comm.on_msg(msg_handler);\n        });\n      } else if ((plot_id in window.PyViz.kernels) && (window.PyViz.kernels[plot_id])) {\n        window.PyViz.kernels[plot_id].registerCommTarget(comm_id, function(comm) {\n          comm.onMsg = msg_handler;\n        });\n      } else if (typeof google != 'undefined' && google.colab.kernel != null) {\n        google.colab.kernel.comms.registerTarget(comm_id, (comm) => {\n          var messages = comm.messages[Symbol.asyncIterator]();\n          function processIteratorResult(result) {\n            var message = result.value;\n            console.log(message)\n            var content = {data: message.data, comm_id};\n            var buffers = []\n            for (var buffer of message.buffers || []) {\n              buffers.push(new DataView(buffer))\n            }\n            var metadata = message.metadata || {};\n            var msg = {content, buffers, metadata}\n            msg_handler(msg);\n            return messages.next().then(processIteratorResult);\n          }\n          return messages.next().then(processIteratorResult);\n        })\n      }\n    }\n\n    JupyterCommManager.prototype.get_client_comm = function(plot_id, comm_id, msg_handler) {\n      if (comm_id in window.PyViz.comms) {\n        return window.PyViz.comms[comm_id];\n      } else if (window.comm_manager || ((window.Jupyter !== undefined) && (Jupyter.notebook.kernel != null))) {\n        var comm_manager = window.comm_manager || Jupyter.notebook.kernel.comm_manager;\n        var comm = comm_manager.new_comm(comm_id, {}, {}, {}, comm_id);\n        if (msg_handler) {\n          comm.on_msg(msg_handler);\n        }\n      } else if ((plot_id in window.PyViz.kernels) && (window.PyViz.kernels[plot_id])) {\n        var comm = window.PyViz.kernels[plot_id].connectToComm(comm_id);\n        comm.open();\n        if (msg_handler) {\n          comm.onMsg = msg_handler;\n        }\n      } else if (typeof google != 'undefined' && google.colab.kernel != null) {\n        var comm_promise = google.colab.kernel.comms.open(comm_id)\n        comm_promise.then((comm) => {\n          window.PyViz.comms[comm_id] = comm;\n          if (msg_handler) {\n            var messages = comm.messages[Symbol.asyncIterator]();\n            function processIteratorResult(result) {\n              var message = result.value;\n              var content = {data: message.data};\n              var metadata = message.metadata || {comm_id};\n              var msg = {content, metadata}\n              msg_handler(msg);\n              return messages.next().then(processIteratorResult);\n            }\n            return messages.next().then(processIteratorResult);\n          }\n        })\n        var sendClosure = (data, metadata, buffers, disposeOnDone) => {\n          return comm_promise.then((comm) => {\n            comm.send(data, metadata, buffers, disposeOnDone);\n          });\n        };\n        var comm = {\n          send: sendClosure\n        };\n      }\n      window.PyViz.comms[comm_id] = comm;\n      return comm;\n    }\n    window.PyViz.comm_manager = new JupyterCommManager();\n    \n\n\nvar JS_MIME_TYPE = 'application/javascript';\nvar HTML_MIME_TYPE = 'text/html';\nvar EXEC_MIME_TYPE = 'application/vnd.holoviews_exec.v0+json';\nvar CLASS_NAME = 'output';\n\n/**\n * Render data to the DOM node\n */\nfunction render(props, node) {\n  var div = document.createElement(\"div\");\n  var script = document.createElement(\"script\");\n  node.appendChild(div);\n  node.appendChild(script);\n}\n\n/**\n * Handle when a new output is added\n */\nfunction handle_add_output(event, handle) {\n  var output_area = handle.output_area;\n  var output = handle.output;\n  if ((output.data == undefined) || (!output.data.hasOwnProperty(EXEC_MIME_TYPE))) {\n    return\n  }\n  var id = output.metadata[EXEC_MIME_TYPE][\"id\"];\n  var toinsert = output_area.element.find(\".\" + CLASS_NAME.split(' ')[0]);\n  if (id !== undefined) {\n    var nchildren = toinsert.length;\n    var html_node = toinsert[nchildren-1].children[0];\n    html_node.innerHTML = output.data[HTML_MIME_TYPE];\n    var scripts = [];\n    var nodelist = html_node.querySelectorAll(\"script\");\n    for (var i in nodelist) {\n      if (nodelist.hasOwnProperty(i)) {\n        scripts.push(nodelist[i])\n      }\n    }\n\n    scripts.forEach( function (oldScript) {\n      var newScript = document.createElement(\"script\");\n      var attrs = [];\n      var nodemap = oldScript.attributes;\n      for (var j in nodemap) {\n        if (nodemap.hasOwnProperty(j)) {\n          attrs.push(nodemap[j])\n        }\n      }\n      attrs.forEach(function(attr) { newScript.setAttribute(attr.name, attr.value) });\n      newScript.appendChild(document.createTextNode(oldScript.innerHTML));\n      oldScript.parentNode.replaceChild(newScript, oldScript);\n    });\n    if (JS_MIME_TYPE in output.data) {\n      toinsert[nchildren-1].children[1].textContent = output.data[JS_MIME_TYPE];\n    }\n    output_area._hv_plot_id = id;\n    if ((window.Bokeh !== undefined) && (id in Bokeh.index)) {\n      window.PyViz.plot_index[id] = Bokeh.index[id];\n    } else {\n      window.PyViz.plot_index[id] = null;\n    }\n  } else if (output.metadata[EXEC_MIME_TYPE][\"server_id\"] !== undefined) {\n    var bk_div = document.createElement(\"div\");\n    bk_div.innerHTML = output.data[HTML_MIME_TYPE];\n    var script_attrs = bk_div.children[0].attributes;\n    for (var i = 0; i < script_attrs.length; i++) {\n      toinsert[toinsert.length - 1].childNodes[1].setAttribute(script_attrs[i].name, script_attrs[i].value);\n    }\n    // store reference to server id on output_area\n    output_area._bokeh_server_id = output.metadata[EXEC_MIME_TYPE][\"server_id\"];\n  }\n}\n\n/**\n * Handle when an output is cleared or removed\n */\nfunction handle_clear_output(event, handle) {\n  var id = handle.cell.output_area._hv_plot_id;\n  var server_id = handle.cell.output_area._bokeh_server_id;\n  if (((id === undefined) || !(id in PyViz.plot_index)) && (server_id !== undefined)) { return; }\n  var comm = window.PyViz.comm_manager.get_client_comm(\"hv-extension-comm\", \"hv-extension-comm\", function () {});\n  if (server_id !== null) {\n    comm.send({event_type: 'server_delete', 'id': server_id});\n    return;\n  } else if (comm !== null) {\n    comm.send({event_type: 'delete', 'id': id});\n  }\n  delete PyViz.plot_index[id];\n  if ((window.Bokeh !== undefined) & (id in window.Bokeh.index)) {\n    var doc = window.Bokeh.index[id].model.document\n    doc.clear();\n    const i = window.Bokeh.documents.indexOf(doc);\n    if (i > -1) {\n      window.Bokeh.documents.splice(i, 1);\n    }\n  }\n}\n\n/**\n * Handle kernel restart event\n */\nfunction handle_kernel_cleanup(event, handle) {\n  delete PyViz.comms[\"hv-extension-comm\"];\n  window.PyViz.plot_index = {}\n}\n\n/**\n * Handle update_display_data messages\n */\nfunction handle_update_output(event, handle) {\n  handle_clear_output(event, {cell: {output_area: handle.output_area}})\n  handle_add_output(event, handle)\n}\n\nfunction register_renderer(events, OutputArea) {\n  function append_mime(data, metadata, element) {\n    // create a DOM node to render to\n    var toinsert = this.create_output_subarea(\n    metadata,\n    CLASS_NAME,\n    EXEC_MIME_TYPE\n    );\n    this.keyboard_manager.register_events(toinsert);\n    // Render to node\n    var props = {data: data, metadata: metadata[EXEC_MIME_TYPE]};\n    render(props, toinsert[0]);\n    element.append(toinsert);\n    return toinsert\n  }\n\n  events.on('output_added.OutputArea', handle_add_output);\n  events.on('output_updated.OutputArea', handle_update_output);\n  events.on('clear_output.CodeCell', handle_clear_output);\n  events.on('delete.Cell', handle_clear_output);\n  events.on('kernel_ready.Kernel', handle_kernel_cleanup);\n\n  OutputArea.prototype.register_mime_type(EXEC_MIME_TYPE, append_mime, {\n    safe: true,\n    index: 0\n  });\n}\n\nif (window.Jupyter !== undefined) {\n  try {\n    var events = require('base/js/events');\n    var OutputArea = require('notebook/js/outputarea').OutputArea;\n    if (OutputArea.prototype.mime_types().indexOf(EXEC_MIME_TYPE) == -1) {\n      register_renderer(events, OutputArea);\n    }\n  } catch(err) {\n  }\n}\n",
      "application/vnd.holoviews_load.v0+json": ""
     },
     "metadata": {},
     "output_type": "display_data"
    },
    {
     "data": {
      "application/vnd.holoviews_exec.v0+json": "",
      "text/html": [
       "<div id='8b3b2c48-ec9c-4918-af50-ac6c0aaaf55b'>\n",
       "  <div id=\"d83d1a19-8637-4e79-96d6-8ff6e455abe8\" data-root-id=\"8b3b2c48-ec9c-4918-af50-ac6c0aaaf55b\" style=\"display: contents;\"></div>\n",
       "</div>\n",
       "<script type=\"application/javascript\">(function(root) {\n",
       "  var docs_json = {\"471b7ada-5ea8-4288-800b-b074175c3df5\":{\"version\":\"3.6.3\",\"title\":\"Bokeh Application\",\"roots\":[{\"type\":\"object\",\"name\":\"panel.models.browser.BrowserInfo\",\"id\":\"8b3b2c48-ec9c-4918-af50-ac6c0aaaf55b\"},{\"type\":\"object\",\"name\":\"panel.models.comm_manager.CommManager\",\"id\":\"f556f0c1-5ecc-4e30-a48d-4f0815396436\",\"attributes\":{\"plot_id\":\"8b3b2c48-ec9c-4918-af50-ac6c0aaaf55b\",\"comm_id\":\"4f61fbf925da4f6097a94b7b7d5099ea\",\"client_comm_id\":\"9b6920c00a6c4019a2ae7738163daf2d\"}}],\"defs\":[{\"type\":\"model\",\"name\":\"ReactiveHTML1\"},{\"type\":\"model\",\"name\":\"FlexBox1\",\"properties\":[{\"name\":\"align_content\",\"kind\":\"Any\",\"default\":\"flex-start\"},{\"name\":\"align_items\",\"kind\":\"Any\",\"default\":\"flex-start\"},{\"name\":\"flex_direction\",\"kind\":\"Any\",\"default\":\"row\"},{\"name\":\"flex_wrap\",\"kind\":\"Any\",\"default\":\"wrap\"},{\"name\":\"gap\",\"kind\":\"Any\",\"default\":\"\"},{\"name\":\"justify_content\",\"kind\":\"Any\",\"default\":\"flex-start\"}]},{\"type\":\"model\",\"name\":\"FloatPanel1\",\"properties\":[{\"name\":\"config\",\"kind\":\"Any\",\"default\":{\"type\":\"map\"}},{\"name\":\"contained\",\"kind\":\"Any\",\"default\":true},{\"name\":\"position\",\"kind\":\"Any\",\"default\":\"right-top\"},{\"name\":\"offsetx\",\"kind\":\"Any\",\"default\":null},{\"name\":\"offsety\",\"kind\":\"Any\",\"default\":null},{\"name\":\"theme\",\"kind\":\"Any\",\"default\":\"primary\"},{\"name\":\"status\",\"kind\":\"Any\",\"default\":\"normalized\"}]},{\"type\":\"model\",\"name\":\"GridStack1\",\"properties\":[{\"name\":\"mode\",\"kind\":\"Any\",\"default\":\"warn\"},{\"name\":\"ncols\",\"kind\":\"Any\",\"default\":null},{\"name\":\"nrows\",\"kind\":\"Any\",\"default\":null},{\"name\":\"allow_resize\",\"kind\":\"Any\",\"default\":true},{\"name\":\"allow_drag\",\"kind\":\"Any\",\"default\":true},{\"name\":\"state\",\"kind\":\"Any\",\"default\":[]}]},{\"type\":\"model\",\"name\":\"drag1\",\"properties\":[{\"name\":\"slider_width\",\"kind\":\"Any\",\"default\":5},{\"name\":\"slider_color\",\"kind\":\"Any\",\"default\":\"black\"},{\"name\":\"value\",\"kind\":\"Any\",\"default\":50}]},{\"type\":\"model\",\"name\":\"click1\",\"properties\":[{\"name\":\"terminal_output\",\"kind\":\"Any\",\"default\":\"\"},{\"name\":\"debug_name\",\"kind\":\"Any\",\"default\":\"\"},{\"name\":\"clears\",\"kind\":\"Any\",\"default\":0}]},{\"type\":\"model\",\"name\":\"FastWrapper1\",\"properties\":[{\"name\":\"object\",\"kind\":\"Any\",\"default\":null},{\"name\":\"style\",\"kind\":\"Any\",\"default\":null}]},{\"type\":\"model\",\"name\":\"NotificationAreaBase1\",\"properties\":[{\"name\":\"js_events\",\"kind\":\"Any\",\"default\":{\"type\":\"map\"}},{\"name\":\"position\",\"kind\":\"Any\",\"default\":\"bottom-right\"},{\"name\":\"_clear\",\"kind\":\"Any\",\"default\":0}]},{\"type\":\"model\",\"name\":\"NotificationArea1\",\"properties\":[{\"name\":\"js_events\",\"kind\":\"Any\",\"default\":{\"type\":\"map\"}},{\"name\":\"notifications\",\"kind\":\"Any\",\"default\":[]},{\"name\":\"position\",\"kind\":\"Any\",\"default\":\"bottom-right\"},{\"name\":\"_clear\",\"kind\":\"Any\",\"default\":0},{\"name\":\"types\",\"kind\":\"Any\",\"default\":[{\"type\":\"map\",\"entries\":[[\"type\",\"warning\"],[\"background\",\"#ffc107\"],[\"icon\",{\"type\":\"map\",\"entries\":[[\"className\",\"fas fa-exclamation-triangle\"],[\"tagName\",\"i\"],[\"color\",\"white\"]]}]]},{\"type\":\"map\",\"entries\":[[\"type\",\"info\"],[\"background\",\"#007bff\"],[\"icon\",{\"type\":\"map\",\"entries\":[[\"className\",\"fas fa-info-circle\"],[\"tagName\",\"i\"],[\"color\",\"white\"]]}]]}]}]},{\"type\":\"model\",\"name\":\"Notification\",\"properties\":[{\"name\":\"background\",\"kind\":\"Any\",\"default\":null},{\"name\":\"duration\",\"kind\":\"Any\",\"default\":3000},{\"name\":\"icon\",\"kind\":\"Any\",\"default\":null},{\"name\":\"message\",\"kind\":\"Any\",\"default\":\"\"},{\"name\":\"notification_type\",\"kind\":\"Any\",\"default\":null},{\"name\":\"_rendered\",\"kind\":\"Any\",\"default\":false},{\"name\":\"_destroyed\",\"kind\":\"Any\",\"default\":false}]},{\"type\":\"model\",\"name\":\"TemplateActions1\",\"properties\":[{\"name\":\"open_modal\",\"kind\":\"Any\",\"default\":0},{\"name\":\"close_modal\",\"kind\":\"Any\",\"default\":0}]},{\"type\":\"model\",\"name\":\"BootstrapTemplateActions1\",\"properties\":[{\"name\":\"open_modal\",\"kind\":\"Any\",\"default\":0},{\"name\":\"close_modal\",\"kind\":\"Any\",\"default\":0}]},{\"type\":\"model\",\"name\":\"TemplateEditor1\",\"properties\":[{\"name\":\"layout\",\"kind\":\"Any\",\"default\":[]}]},{\"type\":\"model\",\"name\":\"MaterialTemplateActions1\",\"properties\":[{\"name\":\"open_modal\",\"kind\":\"Any\",\"default\":0},{\"name\":\"close_modal\",\"kind\":\"Any\",\"default\":0}]},{\"type\":\"model\",\"name\":\"ReactiveESM1\",\"properties\":[{\"name\":\"esm_constants\",\"kind\":\"Any\",\"default\":{\"type\":\"map\"}}]},{\"type\":\"model\",\"name\":\"JSComponent1\",\"properties\":[{\"name\":\"esm_constants\",\"kind\":\"Any\",\"default\":{\"type\":\"map\"}}]},{\"type\":\"model\",\"name\":\"ReactComponent1\",\"properties\":[{\"name\":\"esm_constants\",\"kind\":\"Any\",\"default\":{\"type\":\"map\"}}]},{\"type\":\"model\",\"name\":\"AnyWidgetComponent1\",\"properties\":[{\"name\":\"esm_constants\",\"kind\":\"Any\",\"default\":{\"type\":\"map\"}}]},{\"type\":\"model\",\"name\":\"request_value1\",\"properties\":[{\"name\":\"fill\",\"kind\":\"Any\",\"default\":\"none\"},{\"name\":\"_synced\",\"kind\":\"Any\",\"default\":null},{\"name\":\"_request_sync\",\"kind\":\"Any\",\"default\":0}]}]}};\n",
       "  var render_items = [{\"docid\":\"471b7ada-5ea8-4288-800b-b074175c3df5\",\"roots\":{\"8b3b2c48-ec9c-4918-af50-ac6c0aaaf55b\":\"d83d1a19-8637-4e79-96d6-8ff6e455abe8\"},\"root_ids\":[\"8b3b2c48-ec9c-4918-af50-ac6c0aaaf55b\"]}];\n",
       "  var docs = Object.values(docs_json)\n",
       "  if (!docs) {\n",
       "    return\n",
       "  }\n",
       "  const py_version = docs[0].version.replace('rc', '-rc.').replace('.dev', '-dev.')\n",
       "  async function embed_document(root) {\n",
       "    var Bokeh = get_bokeh(root)\n",
       "    await Bokeh.embed.embed_items_notebook(docs_json, render_items);\n",
       "    for (const render_item of render_items) {\n",
       "      for (const root_id of render_item.root_ids) {\n",
       "\tconst id_el = document.getElementById(root_id)\n",
       "\tif (id_el.children.length && id_el.children[0].hasAttribute('data-root-id')) {\n",
       "\t  const root_el = id_el.children[0]\n",
       "\t  root_el.id = root_el.id + '-rendered'\n",
       "\t  for (const child of root_el.children) {\n",
       "            // Ensure JupyterLab does not capture keyboard shortcuts\n",
       "            // see: https://jupyterlab.readthedocs.io/en/4.1.x/extension/notebook.html#keyboard-interaction-model\n",
       "\t    child.setAttribute('data-lm-suppress-shortcuts', 'true')\n",
       "\t  }\n",
       "\t}\n",
       "      }\n",
       "    }\n",
       "  }\n",
       "  function get_bokeh(root) {\n",
       "    if (root.Bokeh === undefined) {\n",
       "      return null\n",
       "    } else if (root.Bokeh.version !== py_version) {\n",
       "      if (root.Bokeh.versions === undefined || !root.Bokeh.versions.has(py_version)) {\n",
       "\treturn null\n",
       "      }\n",
       "      return root.Bokeh.versions.get(py_version);\n",
       "    } else if (root.Bokeh.version === py_version) {\n",
       "      return root.Bokeh\n",
       "    }\n",
       "    return null\n",
       "  }\n",
       "  function is_loaded(root) {\n",
       "    var Bokeh = get_bokeh(root)\n",
       "    return (Bokeh != null && Bokeh.Panel !== undefined)\n",
       "  }\n",
       "  if (is_loaded(root)) {\n",
       "    embed_document(root);\n",
       "  } else {\n",
       "    var attempts = 0;\n",
       "    var timer = setInterval(function(root) {\n",
       "      if (is_loaded(root)) {\n",
       "        clearInterval(timer);\n",
       "        embed_document(root);\n",
       "      } else if (document.readyState == \"complete\") {\n",
       "        attempts++;\n",
       "        if (attempts > 200) {\n",
       "          clearInterval(timer);\n",
       "\t  var Bokeh = get_bokeh(root)\n",
       "\t  if (Bokeh == null || Bokeh.Panel == null) {\n",
       "            console.warn(\"Panel: ERROR: Unable to run Panel code because Bokeh or Panel library is missing\");\n",
       "\t  } else {\n",
       "\t    console.warn(\"Panel: WARNING: Attempting to render but not all required libraries could be resolved.\")\n",
       "\t    embed_document(root)\n",
       "\t  }\n",
       "        }\n",
       "      }\n",
       "    }, 25, root)\n",
       "  }\n",
       "})(window);</script>"
      ]
     },
     "metadata": {
      "application/vnd.holoviews_exec.v0+json": {
       "id": "8b3b2c48-ec9c-4918-af50-ac6c0aaaf55b"
      }
     },
     "output_type": "display_data"
    },
    {
     "data": {
      "text/html": [
       "<script type=\"esms-options\">{\"shimMode\": true}</script><style>*[data-root-id],\n",
       "*[data-root-id] > * {\n",
       "  box-sizing: border-box;\n",
       "  font-family: var(--jp-ui-font-family);\n",
       "  font-size: var(--jp-ui-font-size1);\n",
       "  color: var(--vscode-editor-foreground, var(--jp-ui-font-color1));\n",
       "}\n",
       "\n",
       "/* Override VSCode background color */\n",
       ".cell-output-ipywidget-background:has(\n",
       "    > .cell-output-ipywidget-background > .lm-Widget > *[data-root-id]\n",
       "  ),\n",
       ".cell-output-ipywidget-background:has(> .lm-Widget > *[data-root-id]) {\n",
       "  background-color: transparent !important;\n",
       "}\n",
       "</style>"
      ]
     },
     "metadata": {},
     "output_type": "display_data"
    },
    {
     "data": {
      "application/javascript": "(function(root) {\n  function now() {\n    return new Date();\n  }\n\n  const force = false;\n  const py_version = '3.6.3'.replace('rc', '-rc.').replace('.dev', '-dev.');\n  const reloading = true;\n  const Bokeh = root.Bokeh;\n\n  // Set a timeout for this load but only if we are not already initializing\n  if (typeof (root._bokeh_timeout) === \"undefined\" || (force || !root._bokeh_is_initializing)) {\n    root._bokeh_timeout = Date.now() + 5000;\n    root._bokeh_failed_load = false;\n  }\n\n  function run_callbacks() {\n    try {\n      root._bokeh_onload_callbacks.forEach(function(callback) {\n        if (callback != null)\n          callback();\n      });\n    } finally {\n      delete root._bokeh_onload_callbacks;\n    }\n    console.debug(\"Bokeh: all callbacks have finished\");\n  }\n\n  function load_libs(css_urls, js_urls, js_modules, js_exports, callback) {\n    if (css_urls == null) css_urls = [];\n    if (js_urls == null) js_urls = [];\n    if (js_modules == null) js_modules = [];\n    if (js_exports == null) js_exports = {};\n\n    root._bokeh_onload_callbacks.push(callback);\n\n    if (root._bokeh_is_loading > 0) {\n      // Don't load bokeh if it is still initializing\n      console.debug(\"Bokeh: BokehJS is being loaded, scheduling callback at\", now());\n      return null;\n    } else if (js_urls.length === 0 && js_modules.length === 0 && Object.keys(js_exports).length === 0) {\n      // There is nothing to load\n      run_callbacks();\n      return null;\n    }\n\n    function on_load() {\n      root._bokeh_is_loading--;\n      if (root._bokeh_is_loading === 0) {\n        console.debug(\"Bokeh: all BokehJS libraries/stylesheets loaded\");\n        run_callbacks()\n      }\n    }\n    window._bokeh_on_load = on_load\n\n    function on_error(e) {\n      const src_el = e.srcElement\n      console.error(\"failed to load \" + (src_el.href || src_el.src));\n    }\n\n    const skip = [];\n    if (window.requirejs) {\n      window.requirejs.config({'packages': {}, 'paths': {}, 'shim': {}});\n      root._bokeh_is_loading = css_urls.length + 0;\n    } else {\n      root._bokeh_is_loading = css_urls.length + js_urls.length + js_modules.length + Object.keys(js_exports).length;\n    }\n\n    const existing_stylesheets = []\n    const links = document.getElementsByTagName('link')\n    for (let i = 0; i < links.length; i++) {\n      const link = links[i]\n      if (link.href != null) {\n        existing_stylesheets.push(link.href)\n      }\n    }\n    for (let i = 0; i < css_urls.length; i++) {\n      const url = css_urls[i];\n      const escaped = encodeURI(url)\n      if (existing_stylesheets.indexOf(escaped) !== -1) {\n        on_load()\n        continue;\n      }\n      const element = document.createElement(\"link\");\n      element.onload = on_load;\n      element.onerror = on_error;\n      element.rel = \"stylesheet\";\n      element.type = \"text/css\";\n      element.href = url;\n      console.debug(\"Bokeh: injecting link tag for BokehJS stylesheet: \", url);\n      document.body.appendChild(element);\n    }    var existing_scripts = []\n    const scripts = document.getElementsByTagName('script')\n    for (let i = 0; i < scripts.length; i++) {\n      var script = scripts[i]\n      if (script.src != null) {\n        existing_scripts.push(script.src)\n      }\n    }\n    for (let i = 0; i < js_urls.length; i++) {\n      const url = js_urls[i];\n      const escaped = encodeURI(url)\n      if (skip.indexOf(escaped) !== -1 || existing_scripts.indexOf(escaped) !== -1) {\n        if (!window.requirejs) {\n          on_load();\n        }\n        continue;\n      }\n      const element = document.createElement('script');\n      element.onload = on_load;\n      element.onerror = on_error;\n      element.async = false;\n      element.src = url;\n      console.debug(\"Bokeh: injecting script tag for BokehJS library: \", url);\n      document.head.appendChild(element);\n    }\n    for (let i = 0; i < js_modules.length; i++) {\n      const url = js_modules[i];\n      const escaped = encodeURI(url)\n      if (skip.indexOf(escaped) !== -1 || existing_scripts.indexOf(escaped) !== -1) {\n        if (!window.requirejs) {\n          on_load();\n        }\n        continue;\n      }\n      var element = document.createElement('script');\n      element.onload = on_load;\n      element.onerror = on_error;\n      element.async = false;\n      element.src = url;\n      element.type = \"module\";\n      console.debug(\"Bokeh: injecting script tag for BokehJS library: \", url);\n      document.head.appendChild(element);\n    }\n    for (const name in js_exports) {\n      const url = js_exports[name];\n      const escaped = encodeURI(url)\n      if (skip.indexOf(escaped) >= 0 || root[name] != null) {\n        if (!window.requirejs) {\n          on_load();\n        }\n        continue;\n      }\n      var element = document.createElement('script');\n      element.onerror = on_error;\n      element.async = false;\n      element.type = \"module\";\n      console.debug(\"Bokeh: injecting script tag for BokehJS library: \", url);\n      element.textContent = `\n      import ${name} from \"${url}\"\n      window.${name} = ${name}\n      window._bokeh_on_load()\n      `\n      document.head.appendChild(element);\n    }\n    if (!js_urls.length && !js_modules.length) {\n      on_load()\n    }\n  };\n\n  function inject_raw_css(css) {\n    const element = document.createElement(\"style\");\n    element.appendChild(document.createTextNode(css));\n    document.body.appendChild(element);\n  }\n\n  const js_urls = [\"https://cdn.holoviz.org/panel/1.6.1/dist/bundled/reactiveesm/es-module-shims@^1.10.0/dist/es-module-shims.min.js\"];\n  const js_modules = [];\n  const js_exports = {};\n  const css_urls = [];\n  const inline_js = [    function(Bokeh) {\n      Bokeh.set_log_level(\"info\");\n    },\nfunction(Bokeh) {} // ensure no trailing comma for IE\n  ];\n\n  function run_inline_js() {\n    if ((root.Bokeh !== undefined) || (force === true)) {\n      for (let i = 0; i < inline_js.length; i++) {\n        try {\n          inline_js[i].call(root, root.Bokeh);\n        } catch(e) {\n          if (!reloading) {\n            throw e;\n          }\n        }\n      }\n      // Cache old bokeh versions\n      if (Bokeh != undefined && !reloading) {\n        var NewBokeh = root.Bokeh;\n        if (Bokeh.versions === undefined) {\n          Bokeh.versions = new Map();\n        }\n        if (NewBokeh.version !== Bokeh.version) {\n          Bokeh.versions.set(NewBokeh.version, NewBokeh)\n        }\n        root.Bokeh = Bokeh;\n      }\n    } else if (Date.now() < root._bokeh_timeout) {\n      setTimeout(run_inline_js, 100);\n    } else if (!root._bokeh_failed_load) {\n      console.log(\"Bokeh: BokehJS failed to load within specified timeout.\");\n      root._bokeh_failed_load = true;\n    }\n    root._bokeh_is_initializing = false\n  }\n\n  function load_or_wait() {\n    // Implement a backoff loop that tries to ensure we do not load multiple\n    // versions of Bokeh and its dependencies at the same time.\n    // In recent versions we use the root._bokeh_is_initializing flag\n    // to determine whether there is an ongoing attempt to initialize\n    // bokeh, however for backward compatibility we also try to ensure\n    // that we do not start loading a newer (Panel>=1.0 and Bokeh>3) version\n    // before older versions are fully initialized.\n    if (root._bokeh_is_initializing && Date.now() > root._bokeh_timeout) {\n      // If the timeout and bokeh was not successfully loaded we reset\n      // everything and try loading again\n      root._bokeh_timeout = Date.now() + 5000;\n      root._bokeh_is_initializing = false;\n      root._bokeh_onload_callbacks = undefined;\n      root._bokeh_is_loading = 0\n      console.log(\"Bokeh: BokehJS was loaded multiple times but one version failed to initialize.\");\n      load_or_wait();\n    } else if (root._bokeh_is_initializing || (typeof root._bokeh_is_initializing === \"undefined\" && root._bokeh_onload_callbacks !== undefined)) {\n      setTimeout(load_or_wait, 100);\n    } else {\n      root._bokeh_is_initializing = true\n      root._bokeh_onload_callbacks = []\n      const bokeh_loaded = root.Bokeh != null && (root.Bokeh.version === py_version || (root.Bokeh.versions !== undefined && root.Bokeh.versions.has(py_version)));\n      if (!reloading && !bokeh_loaded) {\n        if (root.Bokeh) {\n          root.Bokeh = undefined;\n        }\n        console.debug(\"Bokeh: BokehJS not loaded, scheduling load and callback at\", now());\n      }\n      load_libs(css_urls, js_urls, js_modules, js_exports, function() {\n        console.debug(\"Bokeh: BokehJS plotting callback run at\", now());\n        run_inline_js();\n      });\n    }\n  }\n  // Give older versions of the autoload script a head-start to ensure\n  // they initialize before we start loading newer version.\n  setTimeout(load_or_wait, 100)\n}(window));",
      "application/vnd.holoviews_load.v0+json": ""
     },
     "metadata": {},
     "output_type": "display_data"
    },
    {
     "data": {
      "application/javascript": "\nif ((window.PyViz === undefined) || (window.PyViz instanceof HTMLElement)) {\n  window.PyViz = {comms: {}, comm_status:{}, kernels:{}, receivers: {}, plot_index: []}\n}\n\n\n    function JupyterCommManager() {\n    }\n\n    JupyterCommManager.prototype.register_target = function(plot_id, comm_id, msg_handler) {\n      if (window.comm_manager || ((window.Jupyter !== undefined) && (Jupyter.notebook.kernel != null))) {\n        var comm_manager = window.comm_manager || Jupyter.notebook.kernel.comm_manager;\n        comm_manager.register_target(comm_id, function(comm) {\n          comm.on_msg(msg_handler);\n        });\n      } else if ((plot_id in window.PyViz.kernels) && (window.PyViz.kernels[plot_id])) {\n        window.PyViz.kernels[plot_id].registerCommTarget(comm_id, function(comm) {\n          comm.onMsg = msg_handler;\n        });\n      } else if (typeof google != 'undefined' && google.colab.kernel != null) {\n        google.colab.kernel.comms.registerTarget(comm_id, (comm) => {\n          var messages = comm.messages[Symbol.asyncIterator]();\n          function processIteratorResult(result) {\n            var message = result.value;\n            console.log(message)\n            var content = {data: message.data, comm_id};\n            var buffers = []\n            for (var buffer of message.buffers || []) {\n              buffers.push(new DataView(buffer))\n            }\n            var metadata = message.metadata || {};\n            var msg = {content, buffers, metadata}\n            msg_handler(msg);\n            return messages.next().then(processIteratorResult);\n          }\n          return messages.next().then(processIteratorResult);\n        })\n      }\n    }\n\n    JupyterCommManager.prototype.get_client_comm = function(plot_id, comm_id, msg_handler) {\n      if (comm_id in window.PyViz.comms) {\n        return window.PyViz.comms[comm_id];\n      } else if (window.comm_manager || ((window.Jupyter !== undefined) && (Jupyter.notebook.kernel != null))) {\n        var comm_manager = window.comm_manager || Jupyter.notebook.kernel.comm_manager;\n        var comm = comm_manager.new_comm(comm_id, {}, {}, {}, comm_id);\n        if (msg_handler) {\n          comm.on_msg(msg_handler);\n        }\n      } else if ((plot_id in window.PyViz.kernels) && (window.PyViz.kernels[plot_id])) {\n        var comm = window.PyViz.kernels[plot_id].connectToComm(comm_id);\n        comm.open();\n        if (msg_handler) {\n          comm.onMsg = msg_handler;\n        }\n      } else if (typeof google != 'undefined' && google.colab.kernel != null) {\n        var comm_promise = google.colab.kernel.comms.open(comm_id)\n        comm_promise.then((comm) => {\n          window.PyViz.comms[comm_id] = comm;\n          if (msg_handler) {\n            var messages = comm.messages[Symbol.asyncIterator]();\n            function processIteratorResult(result) {\n              var message = result.value;\n              var content = {data: message.data};\n              var metadata = message.metadata || {comm_id};\n              var msg = {content, metadata}\n              msg_handler(msg);\n              return messages.next().then(processIteratorResult);\n            }\n            return messages.next().then(processIteratorResult);\n          }\n        })\n        var sendClosure = (data, metadata, buffers, disposeOnDone) => {\n          return comm_promise.then((comm) => {\n            comm.send(data, metadata, buffers, disposeOnDone);\n          });\n        };\n        var comm = {\n          send: sendClosure\n        };\n      }\n      window.PyViz.comms[comm_id] = comm;\n      return comm;\n    }\n    window.PyViz.comm_manager = new JupyterCommManager();\n    \n\n\nvar JS_MIME_TYPE = 'application/javascript';\nvar HTML_MIME_TYPE = 'text/html';\nvar EXEC_MIME_TYPE = 'application/vnd.holoviews_exec.v0+json';\nvar CLASS_NAME = 'output';\n\n/**\n * Render data to the DOM node\n */\nfunction render(props, node) {\n  var div = document.createElement(\"div\");\n  var script = document.createElement(\"script\");\n  node.appendChild(div);\n  node.appendChild(script);\n}\n\n/**\n * Handle when a new output is added\n */\nfunction handle_add_output(event, handle) {\n  var output_area = handle.output_area;\n  var output = handle.output;\n  if ((output.data == undefined) || (!output.data.hasOwnProperty(EXEC_MIME_TYPE))) {\n    return\n  }\n  var id = output.metadata[EXEC_MIME_TYPE][\"id\"];\n  var toinsert = output_area.element.find(\".\" + CLASS_NAME.split(' ')[0]);\n  if (id !== undefined) {\n    var nchildren = toinsert.length;\n    var html_node = toinsert[nchildren-1].children[0];\n    html_node.innerHTML = output.data[HTML_MIME_TYPE];\n    var scripts = [];\n    var nodelist = html_node.querySelectorAll(\"script\");\n    for (var i in nodelist) {\n      if (nodelist.hasOwnProperty(i)) {\n        scripts.push(nodelist[i])\n      }\n    }\n\n    scripts.forEach( function (oldScript) {\n      var newScript = document.createElement(\"script\");\n      var attrs = [];\n      var nodemap = oldScript.attributes;\n      for (var j in nodemap) {\n        if (nodemap.hasOwnProperty(j)) {\n          attrs.push(nodemap[j])\n        }\n      }\n      attrs.forEach(function(attr) { newScript.setAttribute(attr.name, attr.value) });\n      newScript.appendChild(document.createTextNode(oldScript.innerHTML));\n      oldScript.parentNode.replaceChild(newScript, oldScript);\n    });\n    if (JS_MIME_TYPE in output.data) {\n      toinsert[nchildren-1].children[1].textContent = output.data[JS_MIME_TYPE];\n    }\n    output_area._hv_plot_id = id;\n    if ((window.Bokeh !== undefined) && (id in Bokeh.index)) {\n      window.PyViz.plot_index[id] = Bokeh.index[id];\n    } else {\n      window.PyViz.plot_index[id] = null;\n    }\n  } else if (output.metadata[EXEC_MIME_TYPE][\"server_id\"] !== undefined) {\n    var bk_div = document.createElement(\"div\");\n    bk_div.innerHTML = output.data[HTML_MIME_TYPE];\n    var script_attrs = bk_div.children[0].attributes;\n    for (var i = 0; i < script_attrs.length; i++) {\n      toinsert[toinsert.length - 1].childNodes[1].setAttribute(script_attrs[i].name, script_attrs[i].value);\n    }\n    // store reference to server id on output_area\n    output_area._bokeh_server_id = output.metadata[EXEC_MIME_TYPE][\"server_id\"];\n  }\n}\n\n/**\n * Handle when an output is cleared or removed\n */\nfunction handle_clear_output(event, handle) {\n  var id = handle.cell.output_area._hv_plot_id;\n  var server_id = handle.cell.output_area._bokeh_server_id;\n  if (((id === undefined) || !(id in PyViz.plot_index)) && (server_id !== undefined)) { return; }\n  var comm = window.PyViz.comm_manager.get_client_comm(\"hv-extension-comm\", \"hv-extension-comm\", function () {});\n  if (server_id !== null) {\n    comm.send({event_type: 'server_delete', 'id': server_id});\n    return;\n  } else if (comm !== null) {\n    comm.send({event_type: 'delete', 'id': id});\n  }\n  delete PyViz.plot_index[id];\n  if ((window.Bokeh !== undefined) & (id in window.Bokeh.index)) {\n    var doc = window.Bokeh.index[id].model.document\n    doc.clear();\n    const i = window.Bokeh.documents.indexOf(doc);\n    if (i > -1) {\n      window.Bokeh.documents.splice(i, 1);\n    }\n  }\n}\n\n/**\n * Handle kernel restart event\n */\nfunction handle_kernel_cleanup(event, handle) {\n  delete PyViz.comms[\"hv-extension-comm\"];\n  window.PyViz.plot_index = {}\n}\n\n/**\n * Handle update_display_data messages\n */\nfunction handle_update_output(event, handle) {\n  handle_clear_output(event, {cell: {output_area: handle.output_area}})\n  handle_add_output(event, handle)\n}\n\nfunction register_renderer(events, OutputArea) {\n  function append_mime(data, metadata, element) {\n    // create a DOM node to render to\n    var toinsert = this.create_output_subarea(\n    metadata,\n    CLASS_NAME,\n    EXEC_MIME_TYPE\n    );\n    this.keyboard_manager.register_events(toinsert);\n    // Render to node\n    var props = {data: data, metadata: metadata[EXEC_MIME_TYPE]};\n    render(props, toinsert[0]);\n    element.append(toinsert);\n    return toinsert\n  }\n\n  events.on('output_added.OutputArea', handle_add_output);\n  events.on('output_updated.OutputArea', handle_update_output);\n  events.on('clear_output.CodeCell', handle_clear_output);\n  events.on('delete.Cell', handle_clear_output);\n  events.on('kernel_ready.Kernel', handle_kernel_cleanup);\n\n  OutputArea.prototype.register_mime_type(EXEC_MIME_TYPE, append_mime, {\n    safe: true,\n    index: 0\n  });\n}\n\nif (window.Jupyter !== undefined) {\n  try {\n    var events = require('base/js/events');\n    var OutputArea = require('notebook/js/outputarea').OutputArea;\n    if (OutputArea.prototype.mime_types().indexOf(EXEC_MIME_TYPE) == -1) {\n      register_renderer(events, OutputArea);\n    }\n  } catch(err) {\n  }\n}\n",
      "application/vnd.holoviews_load.v0+json": ""
     },
     "metadata": {},
     "output_type": "display_data"
    }
   ],
   "source": [
    "import pandas as pd\n",
    "import numpy as np\n",
    "import re\n",
    "import hvplot.pandas\n",
    "import panel as pn\n",
    "import holoviews as hv\n",
    "from datetime import datetime\n",
    "\n",
    "pn.extension()"
   ]
  },
  {
   "cell_type": "code",
   "execution_count": 2,
   "metadata": {},
   "outputs": [
    {
     "data": {
      "text/html": [
       "<div>\n",
       "<style scoped>\n",
       "    .dataframe tbody tr th:only-of-type {\n",
       "        vertical-align: middle;\n",
       "    }\n",
       "\n",
       "    .dataframe tbody tr th {\n",
       "        vertical-align: top;\n",
       "    }\n",
       "\n",
       "    .dataframe thead th {\n",
       "        text-align: right;\n",
       "    }\n",
       "</style>\n",
       "<table border=\"1\" class=\"dataframe\">\n",
       "  <thead>\n",
       "    <tr style=\"text-align: right;\">\n",
       "      <th></th>\n",
       "      <th>year</th>\n",
       "      <th>university</th>\n",
       "      <th>school</th>\n",
       "      <th>degree</th>\n",
       "      <th>employment_rate_overall</th>\n",
       "      <th>employment_rate_ft_perm</th>\n",
       "      <th>basic_monthly_mean</th>\n",
       "      <th>basic_monthly_median</th>\n",
       "      <th>gross_monthly_mean</th>\n",
       "      <th>gross_monthly_median</th>\n",
       "      <th>gross_mthly_25_percentile</th>\n",
       "      <th>gross_mthly_75_percentile</th>\n",
       "    </tr>\n",
       "  </thead>\n",
       "  <tbody>\n",
       "    <tr>\n",
       "      <th>0</th>\n",
       "      <td>2013</td>\n",
       "      <td>Nanyang Technological University</td>\n",
       "      <td>College of Business (Nanyang Business School)</td>\n",
       "      <td>Accountancy and Business</td>\n",
       "      <td>97.4</td>\n",
       "      <td>96.1</td>\n",
       "      <td>3701</td>\n",
       "      <td>3200</td>\n",
       "      <td>3727</td>\n",
       "      <td>3350</td>\n",
       "      <td>2900</td>\n",
       "      <td>4000</td>\n",
       "    </tr>\n",
       "    <tr>\n",
       "      <th>1</th>\n",
       "      <td>2013</td>\n",
       "      <td>Nanyang Technological University</td>\n",
       "      <td>College of Business (Nanyang Business School)</td>\n",
       "      <td>Accountancy (3-yr direct Honours Programme)</td>\n",
       "      <td>97.1</td>\n",
       "      <td>95.7</td>\n",
       "      <td>2850</td>\n",
       "      <td>2700</td>\n",
       "      <td>2938</td>\n",
       "      <td>2700</td>\n",
       "      <td>2700</td>\n",
       "      <td>2900</td>\n",
       "    </tr>\n",
       "    <tr>\n",
       "      <th>2</th>\n",
       "      <td>2013</td>\n",
       "      <td>Nanyang Technological University</td>\n",
       "      <td>College of Business (Nanyang Business School)</td>\n",
       "      <td>Business (3-yr direct Honours Programme)</td>\n",
       "      <td>90.9</td>\n",
       "      <td>85.7</td>\n",
       "      <td>3053</td>\n",
       "      <td>3000</td>\n",
       "      <td>3214</td>\n",
       "      <td>3000</td>\n",
       "      <td>2700</td>\n",
       "      <td>3500</td>\n",
       "    </tr>\n",
       "    <tr>\n",
       "      <th>3</th>\n",
       "      <td>2013</td>\n",
       "      <td>Nanyang Technological University</td>\n",
       "      <td>College of Business (Nanyang Business School)</td>\n",
       "      <td>Business and Computing</td>\n",
       "      <td>87.5</td>\n",
       "      <td>87.5</td>\n",
       "      <td>3557</td>\n",
       "      <td>3400</td>\n",
       "      <td>3615</td>\n",
       "      <td>3400</td>\n",
       "      <td>3000</td>\n",
       "      <td>4100</td>\n",
       "    </tr>\n",
       "    <tr>\n",
       "      <th>4</th>\n",
       "      <td>2013</td>\n",
       "      <td>Nanyang Technological University</td>\n",
       "      <td>College of Engineering</td>\n",
       "      <td>Aerospace Engineering</td>\n",
       "      <td>95.3</td>\n",
       "      <td>95.3</td>\n",
       "      <td>3494</td>\n",
       "      <td>3500</td>\n",
       "      <td>3536</td>\n",
       "      <td>3500</td>\n",
       "      <td>3100</td>\n",
       "      <td>3816</td>\n",
       "    </tr>\n",
       "  </tbody>\n",
       "</table>\n",
       "</div>"
      ],
      "text/plain": [
       "   year                        university  \\\n",
       "0  2013  Nanyang Technological University   \n",
       "1  2013  Nanyang Technological University   \n",
       "2  2013  Nanyang Technological University   \n",
       "3  2013  Nanyang Technological University   \n",
       "4  2013  Nanyang Technological University   \n",
       "\n",
       "                                          school  \\\n",
       "0  College of Business (Nanyang Business School)   \n",
       "1  College of Business (Nanyang Business School)   \n",
       "2  College of Business (Nanyang Business School)   \n",
       "3  College of Business (Nanyang Business School)   \n",
       "4                         College of Engineering   \n",
       "\n",
       "                                        degree employment_rate_overall  \\\n",
       "0                     Accountancy and Business                    97.4   \n",
       "1  Accountancy (3-yr direct Honours Programme)                    97.1   \n",
       "2     Business (3-yr direct Honours Programme)                    90.9   \n",
       "3                       Business and Computing                    87.5   \n",
       "4                        Aerospace Engineering                    95.3   \n",
       "\n",
       "  employment_rate_ft_perm basic_monthly_mean basic_monthly_median  \\\n",
       "0                    96.1               3701                 3200   \n",
       "1                    95.7               2850                 2700   \n",
       "2                    85.7               3053                 3000   \n",
       "3                    87.5               3557                 3400   \n",
       "4                    95.3               3494                 3500   \n",
       "\n",
       "  gross_monthly_mean gross_monthly_median gross_mthly_25_percentile  \\\n",
       "0               3727                 3350                      2900   \n",
       "1               2938                 2700                      2700   \n",
       "2               3214                 3000                      2700   \n",
       "3               3615                 3400                      3000   \n",
       "4               3536                 3500                      3100   \n",
       "\n",
       "  gross_mthly_75_percentile  \n",
       "0                      4000  \n",
       "1                      2900  \n",
       "2                      3500  \n",
       "3                      4100  \n",
       "4                      3816  "
      ]
     },
     "execution_count": 2,
     "metadata": {},
     "output_type": "execute_result"
    }
   ],
   "source": [
    "df = pd.read_csv(\"data/GraduateEmploymentSurveyNTUNUSSITSMUSUSSSUTD.csv\")\n",
    "df.head()"
   ]
  },
  {
   "cell_type": "markdown",
   "metadata": {},
   "source": [
    "First we'll perform some basic data sanitisation - removing NA values and declaring the column data types"
   ]
  },
  {
   "cell_type": "code",
   "execution_count": 3,
   "metadata": {},
   "outputs": [],
   "source": [
    "# Remove the rows with na (str)\n",
    "df = df[df['employment_rate_overall'] != 'na']\n",
    "\n",
    "# Specify the datatypes of columns\n",
    "cols_to_change = [col for col in df.columns if col not in \n",
    "                  ['year', 'university', 'school', 'degree']]\n",
    "df = df.astype(dtype={\n",
    "  col: 'float64' for col in cols_to_change\n",
    "})"
   ]
  },
  {
   "cell_type": "markdown",
   "metadata": {},
   "source": [
    "Next, we observe that for each University there might be different names for the degrees and schools, and for degrees there are distinctions between the level of degree obtained (Hons, Cum Laude, etc.). As such, we attempt to remove these distinctions and separate them into different columns to ensure better separation\n",
    "\n",
    "_Note: The cleaning might not be 100% accurate, so please excuse some missed distinctions_"
   ]
  },
  {
   "cell_type": "code",
   "execution_count": 4,
   "metadata": {},
   "outputs": [],
   "source": [
    "# Change the datatype of year column\n",
    "df['year'] = pd.to_datetime(df['year'], format=\"%Y\")"
   ]
  },
  {
   "cell_type": "code",
   "execution_count": 5,
   "metadata": {},
   "outputs": [],
   "source": [
    "# Cleaning the school column\n",
    "# Remove any details from brackets\n",
    "df['school'] = df['school'].str.replace(r'\\(.*?\\)', '', regex=True)\n",
    "\n",
    "# Remove any special characters from the back\n",
    "df['school'] = df['school'].str.replace(r'[\\*|\\\\|\\#]+', '', regex=True)\n",
    "\n",
    "# Remove the white space after dash\n",
    "df['school'] = df['school'].str.replace(r'-\\s', '-', regex=True)\n",
    "\n",
    "# Remove leading and trailing whitespace\n",
    "df['school'] = df['school'].str.strip()"
   ]
  },
  {
   "cell_type": "code",
   "execution_count": 6,
   "metadata": {},
   "outputs": [],
   "source": [
    "# Cleaning the degree column\n",
    "# Remove special characters from the back\n",
    "df['degree'] = df['degree'].str.replace(r'[\\*|\\\\|\\#|\\^|\\.]+', '', regex=True)\n",
    "\n",
    "# Extract out if they were honours or cum laude programs\n",
    "df['advanced'] = np.where(df['degree'].str.contains(r'Honours|\\(Hons\\)|Cum\\s+Laude'), 1, 0)\n",
    "remove_advanced = r'\\s+with\\s+Honours|\\(Hons\\)|\\(?Cum\\sLaude\\sand\\sabove\\)?'\n",
    "df['degree'] = df['degree'].str.replace(remove_advanced, '', regex=True)\n",
    "\n",
    "# Remove the length of degree\n",
    "df['degree'] = df['degree'].str.replace(r'\\([^()]*\\d[^()]*\\)', '', regex=True)\n",
    "\n",
    "# Remove non-degree related terms\n",
    "df['degree'] = df['degree'].str.replace(r'\\(LLB\\)|\\(MBBS\\)|\\(Land\\)', '', regex=True)\n",
    "\n",
    "# Some degree types are hidden between brackets so we extract them\n",
    "temp = df['degree'].str.extract(r'\\(([^)]+)\\)')\n",
    "df.loc[temp[~temp[0].isna()].index, 'degree'] = temp[~temp[0].isna()][0]\n",
    "\n",
    "# Some degrees are also only expressed after the word \"in\"\n",
    "temp = df['degree'].str.extract(r'\\bin\\b\\s+(.*?)$')\n",
    "df.loc[temp[~temp[0].isna()].index, 'degree'] = temp[~temp[0].isna()][0]\n",
    "\n",
    "# Remove term \"Bachelor of\"\n",
    "df['degree'] = df['degree'].str.replace(r'Bachelor\\sof\\s?', '', regex=True, case=False)\n",
    "\n",
    "# Replace some special characters with their word equivalents\n",
    "df['degree'] = df['degree'].str.replace('&', 'and')\n",
    "df['degree'] = df['degree'].str.replace('/', ' and ')\n",
    "df['degree'] = df['degree'].str.replace('with', '')\n",
    "df['degree'] = df['degree'].str.replace(r'\\s+', ' ', regex=True)\n",
    "df['degree'] = df['degree'].str.replace(r's$', '', regex=True)\n",
    "\n",
    "# Remove leading and trailing whitespace\n",
    "df['degree'] = df['degree'].str.strip()\n",
    "\n",
    "# Reset the index\n",
    "df = df.reset_index(drop=True)"
   ]
  },
  {
   "cell_type": "code",
   "execution_count": 7,
   "metadata": {},
   "outputs": [
    {
     "data": {
      "text/html": [
       "<div>\n",
       "<style scoped>\n",
       "    .dataframe tbody tr th:only-of-type {\n",
       "        vertical-align: middle;\n",
       "    }\n",
       "\n",
       "    .dataframe tbody tr th {\n",
       "        vertical-align: top;\n",
       "    }\n",
       "\n",
       "    .dataframe thead th {\n",
       "        text-align: right;\n",
       "    }\n",
       "</style>\n",
       "<table border=\"1\" class=\"dataframe\">\n",
       "  <thead>\n",
       "    <tr style=\"text-align: right;\">\n",
       "      <th></th>\n",
       "      <th>year</th>\n",
       "      <th>university</th>\n",
       "      <th>school</th>\n",
       "      <th>degree</th>\n",
       "      <th>employment_rate_overall</th>\n",
       "      <th>employment_rate_ft_perm</th>\n",
       "      <th>basic_monthly_mean</th>\n",
       "      <th>basic_monthly_median</th>\n",
       "      <th>gross_monthly_mean</th>\n",
       "      <th>gross_monthly_median</th>\n",
       "      <th>gross_mthly_25_percentile</th>\n",
       "      <th>gross_mthly_75_percentile</th>\n",
       "      <th>advanced</th>\n",
       "    </tr>\n",
       "  </thead>\n",
       "  <tbody>\n",
       "    <tr>\n",
       "      <th>0</th>\n",
       "      <td>2013-01-01</td>\n",
       "      <td>Nanyang Technological University</td>\n",
       "      <td>College of Business</td>\n",
       "      <td>Accountancy and Busines</td>\n",
       "      <td>97.4</td>\n",
       "      <td>96.1</td>\n",
       "      <td>3701.0</td>\n",
       "      <td>3200.0</td>\n",
       "      <td>3727.0</td>\n",
       "      <td>3350.0</td>\n",
       "      <td>2900.0</td>\n",
       "      <td>4000.0</td>\n",
       "      <td>0</td>\n",
       "    </tr>\n",
       "    <tr>\n",
       "      <th>1</th>\n",
       "      <td>2013-01-01</td>\n",
       "      <td>Nanyang Technological University</td>\n",
       "      <td>College of Business</td>\n",
       "      <td>Accountancy</td>\n",
       "      <td>97.1</td>\n",
       "      <td>95.7</td>\n",
       "      <td>2850.0</td>\n",
       "      <td>2700.0</td>\n",
       "      <td>2938.0</td>\n",
       "      <td>2700.0</td>\n",
       "      <td>2700.0</td>\n",
       "      <td>2900.0</td>\n",
       "      <td>1</td>\n",
       "    </tr>\n",
       "    <tr>\n",
       "      <th>2</th>\n",
       "      <td>2013-01-01</td>\n",
       "      <td>Nanyang Technological University</td>\n",
       "      <td>College of Business</td>\n",
       "      <td>Business</td>\n",
       "      <td>90.9</td>\n",
       "      <td>85.7</td>\n",
       "      <td>3053.0</td>\n",
       "      <td>3000.0</td>\n",
       "      <td>3214.0</td>\n",
       "      <td>3000.0</td>\n",
       "      <td>2700.0</td>\n",
       "      <td>3500.0</td>\n",
       "      <td>1</td>\n",
       "    </tr>\n",
       "    <tr>\n",
       "      <th>3</th>\n",
       "      <td>2013-01-01</td>\n",
       "      <td>Nanyang Technological University</td>\n",
       "      <td>College of Business</td>\n",
       "      <td>Business and Computing</td>\n",
       "      <td>87.5</td>\n",
       "      <td>87.5</td>\n",
       "      <td>3557.0</td>\n",
       "      <td>3400.0</td>\n",
       "      <td>3615.0</td>\n",
       "      <td>3400.0</td>\n",
       "      <td>3000.0</td>\n",
       "      <td>4100.0</td>\n",
       "      <td>0</td>\n",
       "    </tr>\n",
       "    <tr>\n",
       "      <th>4</th>\n",
       "      <td>2013-01-01</td>\n",
       "      <td>Nanyang Technological University</td>\n",
       "      <td>College of Engineering</td>\n",
       "      <td>Aerospace Engineering</td>\n",
       "      <td>95.3</td>\n",
       "      <td>95.3</td>\n",
       "      <td>3494.0</td>\n",
       "      <td>3500.0</td>\n",
       "      <td>3536.0</td>\n",
       "      <td>3500.0</td>\n",
       "      <td>3100.0</td>\n",
       "      <td>3816.0</td>\n",
       "      <td>0</td>\n",
       "    </tr>\n",
       "  </tbody>\n",
       "</table>\n",
       "</div>"
      ],
      "text/plain": [
       "        year                        university                  school  \\\n",
       "0 2013-01-01  Nanyang Technological University     College of Business   \n",
       "1 2013-01-01  Nanyang Technological University     College of Business   \n",
       "2 2013-01-01  Nanyang Technological University     College of Business   \n",
       "3 2013-01-01  Nanyang Technological University     College of Business   \n",
       "4 2013-01-01  Nanyang Technological University  College of Engineering   \n",
       "\n",
       "                    degree  employment_rate_overall  employment_rate_ft_perm  \\\n",
       "0  Accountancy and Busines                     97.4                     96.1   \n",
       "1              Accountancy                     97.1                     95.7   \n",
       "2                 Business                     90.9                     85.7   \n",
       "3   Business and Computing                     87.5                     87.5   \n",
       "4    Aerospace Engineering                     95.3                     95.3   \n",
       "\n",
       "   basic_monthly_mean  basic_monthly_median  gross_monthly_mean  \\\n",
       "0              3701.0                3200.0              3727.0   \n",
       "1              2850.0                2700.0              2938.0   \n",
       "2              3053.0                3000.0              3214.0   \n",
       "3              3557.0                3400.0              3615.0   \n",
       "4              3494.0                3500.0              3536.0   \n",
       "\n",
       "   gross_monthly_median  gross_mthly_25_percentile  gross_mthly_75_percentile  \\\n",
       "0                3350.0                     2900.0                     4000.0   \n",
       "1                2700.0                     2700.0                     2900.0   \n",
       "2                3000.0                     2700.0                     3500.0   \n",
       "3                3400.0                     3000.0                     4100.0   \n",
       "4                3500.0                     3100.0                     3816.0   \n",
       "\n",
       "   advanced  \n",
       "0         0  \n",
       "1         1  \n",
       "2         1  \n",
       "3         0  \n",
       "4         0  "
      ]
     },
     "execution_count": 7,
     "metadata": {},
     "output_type": "execute_result"
    }
   ],
   "source": [
    "df.head()"
   ]
  },
  {
   "cell_type": "markdown",
   "metadata": {},
   "source": [
    "---"
   ]
  },
  {
   "cell_type": "markdown",
   "metadata": {},
   "source": [
    "# The Dashboard"
   ]
  },
  {
   "cell_type": "markdown",
   "metadata": {},
   "source": [
    "Now that the data is prepared, we'll create individual plots while describing how each of them can be used to interpret some details about the data set. Then we'll combine into a complete dashboard for viewing."
   ]
  },
  {
   "cell_type": "code",
   "execution_count": 8,
   "metadata": {},
   "outputs": [],
   "source": [
    "# You can load the data using this function if you want to jump straight to the dashboard\n",
    "from utils import clean\n",
    "df = pd.read_csv('data/GraduateEmploymentSurveyNTUNUSSITSMUSUSSSUTD.csv')\n",
    "df = clean(df)"
   ]
  },
  {
   "cell_type": "markdown",
   "metadata": {},
   "source": [
    "## Create the control scheme\n",
    "\n",
    "We create controls across the different columns that will allow the users to filter the data according what they want to observe"
   ]
  },
  {
   "cell_type": "code",
   "execution_count": 9,
   "metadata": {},
   "outputs": [],
   "source": [
    "# Remove the unnecessary warnings from panel\n",
    "import warnings\n",
    "\n",
    "with warnings.catch_warnings(): \n",
    "    warnings.simplefilter(\"ignore\", category=UserWarning) #specifies the type of warnings to ignore\n",
    "    pn.config.layout_compatibility = 'warn'"
   ]
  },
  {
   "cell_type": "code",
   "execution_count": 10,
   "metadata": {},
   "outputs": [],
   "source": [
    "# Here we define the set of values that are available for each dashboard control widget\n",
    "universities = list(df['university'].unique())\n",
    "years = list(df['year'].dt.date.unique())\n",
    "degrees = list(df['degree'].unique())\n",
    "\n",
    "COLOURS = ['#264653', '#e9c46a', '#e76f51', '#2a9d8f', '#f4a261']"
   ]
  },
  {
   "cell_type": "markdown",
   "metadata": {},
   "source": [
    "When definiing the controls, we select which widget to display then define the configurations. Generally each widget the following:\n",
    "* `name` - Defines the name (and sometimes title) of the widget\n",
    "* `value` - The default value when the widget is first created\n",
    "* `options` - (if categorical) Defines the set of options available for that widget"
   ]
  },
  {
   "cell_type": "code",
   "execution_count": 11,
   "metadata": {},
   "outputs": [
    {
     "data": {
      "application/vnd.jupyter.widget-view+json": {
       "model_id": "be893e139e4849d188c12e45ae65227a",
       "version_major": 2,
       "version_minor": 0
      },
      "text/plain": [
       "BokehModel(combine_events=True, render_bundle={'docs_json': {'fbd7e795-ddc4-4158-b76b-e056c15fef54': {'version…"
      ]
     },
     "execution_count": 11,
     "metadata": {},
     "output_type": "execute_result"
    }
   ],
   "source": [
    "# Checkbox group for universities\n",
    "## Allows users to select multiple universities at the same time to compare them\n",
    "uni_select = pn.widgets.Select(\n",
    "  name='Select Universities:',\n",
    "  value='National University of Singapore',\n",
    "  options=universities,\n",
    ")\n",
    "\n",
    "## Allow users to select the range of years they want to see\n",
    "year_slider = pn.widgets.DateRangeSlider(\n",
    "  name='Graduate Date Range',\n",
    "  start=years[0],\n",
    "  end=years[-1],\n",
    "  value=(years[0], years[-1]),\n",
    "  step=365,\n",
    "  # format='%Y'\n",
    ")\n",
    "\n",
    "## Allow users to select multiple degrees at the same time\n",
    "degree_multi_select = pn.widgets.MultiChoice(\n",
    "  name='Degrees to Compare (limit 5)',\n",
    "  options=degrees,\n",
    "  value=['Accountancy', 'Business Administration', 'Social Science', 'Art'],\n",
    "  max_items=5\n",
    ")\n",
    "\n",
    "pn.Column(\n",
    "  uni_select,\n",
    "  pn.Row(year_slider, degree_multi_select)\n",
    ")"
   ]
  },
  {
   "cell_type": "markdown",
   "metadata": {},
   "source": [
    "## Plot 1: Scatter + Line Plot \n",
    "\n",
    "We'll first build a scatter and line plot that showcases the changing mean monthly salary for fresh graduates across the different years. This plot is good for showcasing the historical changes for different categorical groups of data. Since our data is a time-series, it would be good to observe the change over time.\n",
    "\n",
    "The plot should be able to filter according to school and degree. This will allow the user to filter and compare the job acquisition performance of the same degree across different schools."
   ]
  },
  {
   "cell_type": "code",
   "execution_count": 12,
   "metadata": {},
   "outputs": [
    {
     "data": {
      "application/vnd.jupyter.widget-view+json": {
       "model_id": "1aab03be541f40eeafa82d9273f15681",
       "version_major": 2,
       "version_minor": 0
      },
      "text/plain": [
       "BokehModel(combine_events=True, render_bundle={'docs_json': {'a46cec91-a292-4ea9-9c42-818f5eb00323': {'version…"
      ]
     },
     "execution_count": 12,
     "metadata": {},
     "output_type": "execute_result"
    }
   ],
   "source": [
    "@pn.depends(uni_select, year_slider, degree_multi_select)\n",
    "def scatter_line_plot(uni_select, year_slider, degree_multi_select):\n",
    "  df1 = df.copy()\n",
    "\n",
    "  # Change the year details to string type for more consistent comparison\n",
    "  start_year, end_year = int(year_slider[0].year), int(year_slider[1].year)\n",
    "  year_range = [str(start_year + i) for i in range(1, int(end_year - start_year + 1))]\n",
    "  df1['year'] = df1['year'].dt.strftime(\"%Y\")\n",
    "\n",
    "  # Prepare the data for the plot\n",
    "  df1 = df1[\n",
    "    (df1['university'] == uni_select) &\n",
    "    (df1['year'].isin(year_range)) &\n",
    "    (df1['degree'].isin(degree_multi_select)) &\n",
    "    (df1['advanced'] == 0) # automatically filter out advanced further studies\n",
    "  ]\n",
    "  df1 = df1.sort_values('year')\n",
    "\n",
    "  # Pivot the dataframe to match hvplot format\n",
    "  df2 = df1.pivot(index='year', columns='degree', values='basic_monthly_mean').reset_index()\n",
    "  cols_for_line = list(df2.columns.drop('year'))\n",
    "\n",
    "  # Plot the line graph\n",
    "  scatter_plot = df1.hvplot.scatter(\n",
    "    x='year',\n",
    "    y='basic_monthly_mean',\n",
    "    by='degree',\n",
    "    size=70,\n",
    "    hover_cols=['year', 'basic_monthly_mean'],\n",
    "    title=f'Mean Monthly Salary for Jobs in {uni_select}',\n",
    "    xlabel='Year',\n",
    "    ylabel='Mean Monthly Salary',\n",
    "    color=COLOURS[:len(degree_multi_select)],\n",
    "    legend='top'\n",
    "  )\n",
    "\n",
    "  line_plot = df2.hvplot.line(\n",
    "    x='year',\n",
    "    y=cols_for_line,\n",
    "    by='degree',\n",
    "    color=COLOURS[:len(degree_multi_select)]\n",
    "  )\n",
    "\n",
    "  # Combine the scatter plot and line plot together\n",
    "  plot1 = line_plot * scatter_plot\n",
    "\n",
    "  return plot1\n",
    "\n",
    "# Create layout\n",
    "layout = pn.Column(\n",
    "  pn.Row(uni_select),\n",
    "  pn.Row(year_slider, degree_multi_select),\n",
    "  scatter_line_plot\n",
    ")\n",
    "\n",
    "# Display\n",
    "layout"
   ]
  },
  {
   "cell_type": "markdown",
   "metadata": {},
   "source": [
    "One observation is that it's difficult to control the assigned colour for each category when they are separated into different plots i.e scatter and line. As seen above, the dots and line are not always the same colour. This happens because `hvplot` assigns colour based on the order of categories in the original dataframe, which is structured differently for both the scatter and line plot, therefore the colours are off.\n",
    "\n",
    "But from here we can see that the mean monthly salary for each degree has been increasing over time since 2014. Of note, Business Administration has seen the largest increase, while Accountancy experienced a sharp drop in 2021, but rebounded significantly in 2022."
   ]
  },
  {
   "cell_type": "markdown",
   "metadata": {},
   "source": [
    "## Plot 2: Error Bars\n",
    "\n",
    "The error bars plot shows the 25th, median and 75th percentile for each degree, it is a simplified boxplot (here we are limited by the availability of data). This plot is good for showing the distribution of data across multiple categories. Showing a single median value might not provide a clear enough description of how wide the variation is.\n",
    "\n",
    "It should allow a filter on the university and degree. This allows the user to have a better understanding of the distribution of the Gross Salary for each degree."
   ]
  },
  {
   "cell_type": "code",
   "execution_count": 14,
   "metadata": {},
   "outputs": [
    {
     "data": {
      "application/vnd.jupyter.widget-view+json": {
       "model_id": "27591143b04b4e1c94fed173e08ac19e",
       "version_major": 2,
       "version_minor": 0
      },
      "text/plain": [
       "BokehModel(combine_events=True, render_bundle={'docs_json': {'7d9649e7-f136-48df-97b6-32dafa134138': {'version…"
      ]
     },
     "execution_count": 14,
     "metadata": {},
     "output_type": "execute_result"
    }
   ],
   "source": [
    "@pn.depends(uni_select, year_slider, degree_multi_select)\n",
    "def error_bars_plot(uni_select, year_slider, degree_multi_select):\n",
    "  df2 = df.copy()\n",
    "\n",
    "  # Prepare the data for the plot\n",
    "  df2['year'] = df2['year'].dt.strftime(\"%Y\")\n",
    "  df2 = df2[\n",
    "    (df2['university'] == uni_select) &\n",
    "    (df2['year'] == str(year_slider[1].year)) &\n",
    "    (df2['degree'].isin(degree_multi_select)) &\n",
    "    (df2['advanced'] == 0) # automatically filter out advanced further studies\n",
    "  ]\n",
    "  # Get the difference between the 25th/ 75th percentile and the median\n",
    "  df2['lower_error'] = df2['gross_monthly_median'] - df2['gross_mthly_25_percentile']\n",
    "  df2['upper_error'] = df2['gross_mthly_75_percentile'] - df2['gross_monthly_median']\n",
    "\n",
    "  # Create the scatter plot point for median\n",
    "  median = df2.hvplot.scatter(\n",
    "    x='degree',\n",
    "    y='gross_monthly_median',\n",
    "    color='#39b9e8',\n",
    "    size=100,\n",
    "    marker='s',\n",
    "    ylabel='Gross Monthly Salary',\n",
    "    xlabel='Degree',\n",
    "    title=f'Errors for Gross Monthly Salary in {year_slider[1].year}',\n",
    "    legend=False\n",
    "  )\n",
    "\n",
    "  # Create the error bars using the calculated errors\n",
    "  errors = df2.hvplot.errorbars(\n",
    "    x='degree',\n",
    "    y='gross_monthly_median',  # Median as central value\n",
    "    yerr1='lower_error',\n",
    "    yerr2=\"upper_error\",\n",
    "    color='black',\n",
    "    line_width=2,\n",
    "    legend=False\n",
    "  )\n",
    "\n",
    "  plot2 = errors * median\n",
    "\n",
    "  return plot2\n",
    "\n",
    "# Create layout\n",
    "layout = pn.Column(\n",
    "  pn.Row(uni_select),\n",
    "  pn.Row(year_slider, degree_multi_select),\n",
    "  error_bars_plot\n",
    ")\n",
    "\n",
    "# Display\n",
    "layout"
   ]
  },
  {
   "cell_type": "markdown",
   "metadata": {},
   "source": [
    "Even though Business Administration has the highest median Gross Monthly Salary amongst the listed degrees, the 75th percentile for Accountancy seems to overlap with the median value, which suggests that the higher paying Accountancy roles only hit about the median salary. Meanwhile, Art and Social Science have less variation in the salary offered to fresh graduates."
   ]
  },
  {
   "cell_type": "markdown",
   "metadata": {},
   "source": [
    "## Plot 3: Bar Graph\n",
    "\n",
    "Next we'll build a bar graph to compare the employment rates between the various degrees in the __latest year__ selected. The bar graph is a good way to compare numerical values side by side for each category, since it provides a common axis to compare them against.\n",
    "\n",
    "The visualisation should filter on the university and degree. This will allow users to compare the various employment rates between each degrees without having to dive deeply and individually sort values."
   ]
  },
  {
   "cell_type": "code",
   "execution_count": 15,
   "metadata": {},
   "outputs": [
    {
     "data": {
      "application/vnd.jupyter.widget-view+json": {
       "model_id": "3b35cec52e534386b3bff8dbbe3ce6c8",
       "version_major": 2,
       "version_minor": 0
      },
      "text/plain": [
       "BokehModel(combine_events=True, render_bundle={'docs_json': {'d99e2ea1-2f34-4d71-aa86-b94ecc296fd2': {'version…"
      ]
     },
     "execution_count": 15,
     "metadata": {},
     "output_type": "execute_result"
    }
   ],
   "source": [
    "@pn.depends(uni_select, year_slider, degree_multi_select)\n",
    "def bar_graphs_plot(uni_select, year_slider, degree_multi_select):\n",
    "  df3 = df.copy()\n",
    "  # Prepare the data for the plot\n",
    "  df3['year'] = df3['year'].dt.strftime(\"%Y\")\n",
    "  df3 = df3[\n",
    "    (df3['university'] == uni_select) &\n",
    "    (df3['year'] == str(year_slider[1].year)) &\n",
    "    (df3['degree'].isin(degree_multi_select)) &\n",
    "    (df3['advanced'] == 0) # automatically filter out advanced further studies\n",
    "  ]\n",
    "  df3 = df3.sort_values('employment_rate_overall')\n",
    "\n",
    "  # Plot the bar graph\n",
    "  plot3 = df3.hvplot.barh(\n",
    "    y='employment_rate_overall',\n",
    "    x='degree',\n",
    "    color='#39b9e8',\n",
    "    ylabel='Full-time Employment Percentage (%)',\n",
    "    xlabel='Degree',\n",
    "    title=f'Full-time Employment Percentage in \\n{uni_select} ({year_slider[1].year})'\n",
    "  )\n",
    "\n",
    "  return plot3\n",
    "\n",
    "# Create layout\n",
    "layout = pn.Column(\n",
    "  pn.Row(uni_select),\n",
    "  pn.Row(year_slider, degree_multi_select),\n",
    "  bar_graphs_plot\n",
    ")\n",
    "\n",
    "# Display\n",
    "layout"
   ]
  },
  {
   "cell_type": "markdown",
   "metadata": {},
   "source": [
    "From this, although Business Administration had the highest median salary, it has the lowest Full-time Employment Percentage compared to the other degrees. Higher pay means lower employment since it costs more for the company to higher. But the overall employment rate is still relatively high >85% for each degree."
   ]
  },
  {
   "cell_type": "markdown",
   "metadata": {},
   "source": [
    "## Plot 4: Dumbbell Plot\n",
    "\n",
    "The dumbbell plot is used to emphasie gaps in values between 2 groups of data. In this case, we use it to showcase the difference between degrees that are honours degrees or cum laude achievement. Here we observe the mean salary difference.\n",
    "\n",
    "This allows users to directly compare those degrees that have different tiers."
   ]
  },
  {
   "cell_type": "code",
   "execution_count": 18,
   "metadata": {},
   "outputs": [
    {
     "data": {
      "application/vnd.jupyter.widget-view+json": {
       "model_id": "2b963f3edd43464cb64d101950535dda",
       "version_major": 2,
       "version_minor": 0
      },
      "text/plain": [
       "BokehModel(combine_events=True, render_bundle={'docs_json': {'558edc34-7131-48b0-95df-28d2efb59aff': {'version…"
      ]
     },
     "execution_count": 18,
     "metadata": {},
     "output_type": "execute_result"
    }
   ],
   "source": [
    "@pn.depends(uni_select, year_slider, degree_multi_select)\n",
    "def dumbbell_plot(uni_select, year_slider, degree_multi_select):\n",
    "  df4 = df.copy()\n",
    "\n",
    "  # Prepare the data for the plot\n",
    "  df4['year'] = df4['year'].dt.strftime(\"%Y\")\n",
    "  df4 = df4[\n",
    "    (df4['university'] == uni_select) &\n",
    "    (df4['year'] == str(year_slider[1].year)) &\n",
    "    (df4['degree'].isin(degree_multi_select))\n",
    "  ]\n",
    "\n",
    "  # Filter out degrees that have both advanced degrees\n",
    "  adv_filter = df4.groupby('degree').count().reset_index()\n",
    "  adv_filter = list(adv_filter[adv_filter['advanced'] == 2]['degree'])\n",
    "  df4 = df4[df4['degree'].isin(adv_filter)]\n",
    "\n",
    "  # Pivot dataframe into the advanced and not advanced columns\n",
    "  df4 = df4.pivot(index='degree', values='basic_monthly_mean', columns='advanced').reset_index()\n",
    "  df4 = df4.rename({0: 'start', 1: 'end'}, axis=1)\n",
    "\n",
    "  # Create the dumbbell plot\n",
    "  ## Scatter plot points for advanced and not advanced values\n",
    "  start_points = df4.hvplot.scatter(\n",
    "    x='start',\n",
    "    y='degree',\n",
    "    color=\"#39b9e8\",\n",
    "    size=100,\n",
    "    label='Without Higher Qualifications'\n",
    "  )\n",
    "  end_points = df4.hvplot.scatter(\n",
    "    x='end',\n",
    "    y='degree',\n",
    "    color=\"#91dc4c\",\n",
    "    size=100,\n",
    "    label='With Higher Qualifications'\n",
    "  )\n",
    "\n",
    "  # Create line segments connecting the points\n",
    "  segments = hv.Segments([\n",
    "    (\n",
    "      df4.loc[i, \"start\"],\n",
    "      df4.loc[i, \"degree\"], \n",
    "      df4.loc[i, \"end\"],\n",
    "      df4.loc[i, \"degree\"]\n",
    "    ) \n",
    "  for i in df4.index]).opts(color=\"black\", line_width=2)\n",
    "\n",
    "  # Combine plots\n",
    "  plot4 = (segments * start_points * end_points) \\\n",
    "    .opts(\n",
    "      title=f\"Difference in Mean Monthly Salary for Jobs \\nwith Different Qualification Levels in {year_slider[1].year}\",\n",
    "      xlabel=\"Degree\",\n",
    "      ylabel=\"Mean Monthly Salary\",\n",
    "      legend_position=\"top\"\n",
    "    )\n",
    "\n",
    "  return plot4\n",
    "\n",
    "# Create layout\n",
    "layout = pn.Column(\n",
    "  pn.Row(uni_select),\n",
    "  pn.Row(year_slider, degree_multi_select),\n",
    "  dumbbell_plot\n",
    ")\n",
    "\n",
    "# Display\n",
    "layout"
   ]
  },
  {
   "cell_type": "markdown",
   "metadata": {},
   "source": [
    "Here Social Science is not included since it doesn't have an honours program or data for it's cum laude graduates. However, funnily enough the degrees with higher qualifications have lower Mean Monthly Salary (Business Administration and Accountancy) "
   ]
  },
  {
   "cell_type": "markdown",
   "metadata": {},
   "source": [
    "## Putting it All Together\n",
    "\n",
    "Finally, we combine all the dashboards we have created into 1 large viewing plane. This simplifies the functionality for users to view all information with a single control panel."
   ]
  },
  {
   "cell_type": "code",
   "execution_count": 21,
   "metadata": {},
   "outputs": [
    {
     "data": {
      "application/vnd.jupyter.widget-view+json": {
       "model_id": "f70bde0e2b17429b800430c705722978",
       "version_major": 2,
       "version_minor": 0
      },
      "text/plain": [
       "BokehModel(combine_events=True, render_bundle={'docs_json': {'ed351124-8786-4812-8cf1-897defdffd30': {'version…"
      ]
     },
     "execution_count": 21,
     "metadata": {},
     "output_type": "execute_result"
    }
   ],
   "source": [
    "layout = pn.Column(\n",
    "  pn.Row(\"# Singapore Graduate Employment Survey (2013-2022)\"),\n",
    "  pn.Row(\"## Control Panel\"),\n",
    "  pn.Row(uni_select),\n",
    "  pn.Row(year_slider, degree_multi_select),\n",
    "  pn.Row(\"## Plots\"),\n",
    "  pn.Row(scatter_line_plot, error_bars_plot),\n",
    "  pn.Row(bar_graphs_plot, dumbbell_plot)\n",
    ")\n",
    "layout"
   ]
  },
  {
   "cell_type": "code",
   "execution_count": null,
   "metadata": {},
   "outputs": [
    {
     "name": "stdout",
     "output_type": "stream",
     "text": [
      "Launching server at http://localhost:56332\n"
     ]
    },
    {
     "data": {
      "text/plain": [
       "<panel.io.server.Server at 0x210ec505fa0>"
      ]
     },
     "execution_count": 20,
     "metadata": {},
     "output_type": "execute_result"
    },
    {
     "name": "stderr",
     "output_type": "stream",
     "text": [
      "WARNING:bokeh.core.validation.check:W-1005 (FIXED_SIZING_MODE): 'fixed' sizing mode requires width and height to be set: Column(id='6efd54db-51b7-4c8b-80e3-e6794188d991', ...)\n",
      "WARNING:bokeh.core.validation.check:W-1005 (FIXED_SIZING_MODE): 'fixed' sizing mode requires width and height to be set: Column(id='bee695b5-b1e0-4ac6-a060-f75f6d04f559', ...)\n",
      "WARNING:bokeh.core.validation.check:W-1005 (FIXED_SIZING_MODE): 'fixed' sizing mode requires width and height to be set: Column(id='2628f48b-7159-4eeb-b76b-b0604d1dde53', ...)\n",
      "WARNING:bokeh.core.validation.check:W-1005 (FIXED_SIZING_MODE): 'fixed' sizing mode requires width and height to be set: Column(id='f987229e-9133-4d45-b2a0-8683a0d4ea5d', ...)\n",
      "WARNING:bokeh.core.validation.check:W-1005 (FIXED_SIZING_MODE): 'fixed' sizing mode requires width and height to be set: Column(id='26af6dc6-beb9-4dd1-9940-e93a9328c7b3', ...)\n",
      "WARNING:bokeh.core.validation.check:W-1005 (FIXED_SIZING_MODE): 'fixed' sizing mode requires width and height to be set: Column(id='028e3bdd-ef60-494d-837d-6cfe91c5fdc4', ...)\n",
      "WARNING:bokeh.core.validation.check:W-1005 (FIXED_SIZING_MODE): 'fixed' sizing mode requires width and height to be set: Column(id='1705e9d9-ddc9-48a6-9324-835ba60e56e6', ...)\n",
      "WARNING:bokeh.core.validation.check:W-1005 (FIXED_SIZING_MODE): 'fixed' sizing mode requires width and height to be set: Column(id='08770623-97bf-4e88-85e4-dd40e0c1420b', ...)\n"
     ]
    }
   ],
   "source": [
    "# To launch it on browser in a separate window\n",
    "# layout.show()"
   ]
  },
  {
   "cell_type": "markdown",
   "metadata": {},
   "source": [
    "Each plot provides details about the graduate salary for each degree, with respect to the school that offers it. The Scatter + Line plot provides the historical information on salary performance, which although leaves it slightly isolated from the rest of the plots provides key insights on the degrees performance over time. The remaining plot focus on the latest information (latest year) for each degree and how they stack up against each other. Providing comparisons on employability, distribution of salaries and whether a higher qualification will land you higher pay.\n",
    "\n",
    "All in all, this dashboard serves as a good view for prospective students to compare degrees that they are interested in for any of the available universities in Singapore."
   ]
  },
  {
   "cell_type": "markdown",
   "metadata": {},
   "source": [
    "##"
   ]
  },
  {
   "cell_type": "markdown",
   "metadata": {},
   "source": [
    "# Limitations"
   ]
  },
  {
   "cell_type": "markdown",
   "metadata": {},
   "source": [
    "🚨 __ALERT: There is a `UnknownReferenceError` that pops up every time the date values are changed. This is a [known issue](https://discourse.holoviz.org/t/panel-unknownreferenceerror-cant-resolve-reference/8417) that has not been resolved when working with different date steps. Please refresh the notebook if the error logs get too long__"
   ]
  },
  {
   "cell_type": "markdown",
   "metadata": {},
   "source": [
    "While comprehensive there are some key limitations to this dashboard:\n",
    "\n",
    "* Unable to compare between degrees from different Universities\n",
    "* Data cleaning limitations - some degrees are the same but have different names\n",
    "* Limited to 5 degrees due to space constraint\n",
    "* Limited to 1 year for some plots due to the plots nature"
   ]
  },
  {
   "cell_type": "markdown",
   "metadata": {},
   "source": [
    "# Future Works"
   ]
  },
  {
   "cell_type": "markdown",
   "metadata": {},
   "source": [
    "Suggestions to improve dashboard:\n",
    "* Provide an additional filter layer to compare between Universities\n",
    "* Invest more time into data cleaning efforts to ensure better comparisons\n",
    "* `hvplot` has other library extensions that can potentially be used for more detailed plots"
   ]
  }
 ],
 "metadata": {
  "kernelspec": {
   "display_name": "visualisation-demo-cdwvYfXi-py3.12",
   "language": "python",
   "name": "python3"
  },
  "language_info": {
   "codemirror_mode": {
    "name": "ipython",
    "version": 3
   },
   "file_extension": ".py",
   "mimetype": "text/x-python",
   "name": "python",
   "nbconvert_exporter": "python",
   "pygments_lexer": "ipython3",
   "version": "3.12.4"
  }
 },
 "nbformat": 4,
 "nbformat_minor": 2
}
