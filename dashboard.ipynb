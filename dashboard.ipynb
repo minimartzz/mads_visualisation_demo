{
 "cells": [
  {
   "cell_type": "markdown",
   "metadata": {},
   "source": [
    "# Interactive Dashboard with HoloViz"
   ]
  },
  {
   "cell_type": "markdown",
   "metadata": {},
   "source": [
    "| Date | User | Change Type | Remarks |  \n",
    "| ---- | ---- | ----------- | ------- |\n",
    "| 20/03/2025   | Martin | Create  | Created notebook | "
   ]
  },
  {
   "cell_type": "markdown",
   "metadata": {
    "vscode": {
     "languageId": "plaintext"
    }
   },
   "source": [
    "# Content\n",
    "\n",
    "* [Introduction](#introduction)\n",
    "* [Setup](#setup)\n",
    "* [The Data](#the-data)"
   ]
  },
  {
   "cell_type": "markdown",
   "metadata": {},
   "source": [
    "# Introduction"
   ]
  },
  {
   "cell_type": "markdown",
   "metadata": {},
   "source": [
    "This notebook complements the associated article to create interactive dashboards using components from the HoloViz Suite, more specifically, Panel, hvPlot and HoloViews. These are data visualisations that allow for user interaction to dive deeper into the data.\n",
    "\n",
    "In this tutorial, we will perform some data cleaning prior to the visualisation tutorial and explore the Graduate Employment Survey (GES) conducted by Universities in Singapore from 2013-2022."
   ]
  },
  {
   "cell_type": "markdown",
   "metadata": {},
   "source": [
    "# Setup"
   ]
  },
  {
   "cell_type": "markdown",
   "metadata": {},
   "source": []
  },
  {
   "cell_type": "code",
   "execution_count": null,
   "metadata": {},
   "outputs": [],
   "source": []
  },
  {
   "cell_type": "markdown",
   "metadata": {},
   "source": [
    "# The Data"
   ]
  },
  {
   "cell_type": "markdown",
   "metadata": {},
   "source": [
    "_More details about the data can be found in the article or from the [source](https://data.gov.sg/datasets/d_3c55210de27fcccda2ed0c63fdd2b352/view)_\n",
    "\n",
    "The Graduate Employment Survey (GES) is jointly conducted by NTU, NUS, SMU, SIT, SUTD and SUSS (Universities in Singapore) annually to survey the employment conditions of graduates about six months after their final examinations. The results are published by the Ministry of Education (MOE)\n",
    "\n",
    "Here we will perform some data cleaning to ensure a good format for visualisation later."
   ]
  },
  {
   "cell_type": "code",
   "execution_count": 2,
   "metadata": {},
   "outputs": [],
   "source": [
    "import pandas as pd\n",
    "import numpy as np\n",
    "import re"
   ]
  },
  {
   "cell_type": "code",
   "execution_count": 145,
   "metadata": {},
   "outputs": [
    {
     "data": {
      "text/html": [
       "<div>\n",
       "<style scoped>\n",
       "    .dataframe tbody tr th:only-of-type {\n",
       "        vertical-align: middle;\n",
       "    }\n",
       "\n",
       "    .dataframe tbody tr th {\n",
       "        vertical-align: top;\n",
       "    }\n",
       "\n",
       "    .dataframe thead th {\n",
       "        text-align: right;\n",
       "    }\n",
       "</style>\n",
       "<table border=\"1\" class=\"dataframe\">\n",
       "  <thead>\n",
       "    <tr style=\"text-align: right;\">\n",
       "      <th></th>\n",
       "      <th>year</th>\n",
       "      <th>university</th>\n",
       "      <th>school</th>\n",
       "      <th>degree</th>\n",
       "      <th>employment_rate_overall</th>\n",
       "      <th>employment_rate_ft_perm</th>\n",
       "      <th>basic_monthly_mean</th>\n",
       "      <th>basic_monthly_median</th>\n",
       "      <th>gross_monthly_mean</th>\n",
       "      <th>gross_monthly_median</th>\n",
       "      <th>gross_mthly_25_percentile</th>\n",
       "      <th>gross_mthly_75_percentile</th>\n",
       "    </tr>\n",
       "  </thead>\n",
       "  <tbody>\n",
       "    <tr>\n",
       "      <th>0</th>\n",
       "      <td>2013</td>\n",
       "      <td>Nanyang Technological University</td>\n",
       "      <td>College of Business (Nanyang Business School)</td>\n",
       "      <td>Accountancy and Business</td>\n",
       "      <td>97.4</td>\n",
       "      <td>96.1</td>\n",
       "      <td>3701</td>\n",
       "      <td>3200</td>\n",
       "      <td>3727</td>\n",
       "      <td>3350</td>\n",
       "      <td>2900</td>\n",
       "      <td>4000</td>\n",
       "    </tr>\n",
       "    <tr>\n",
       "      <th>1</th>\n",
       "      <td>2013</td>\n",
       "      <td>Nanyang Technological University</td>\n",
       "      <td>College of Business (Nanyang Business School)</td>\n",
       "      <td>Accountancy (3-yr direct Honours Programme)</td>\n",
       "      <td>97.1</td>\n",
       "      <td>95.7</td>\n",
       "      <td>2850</td>\n",
       "      <td>2700</td>\n",
       "      <td>2938</td>\n",
       "      <td>2700</td>\n",
       "      <td>2700</td>\n",
       "      <td>2900</td>\n",
       "    </tr>\n",
       "    <tr>\n",
       "      <th>2</th>\n",
       "      <td>2013</td>\n",
       "      <td>Nanyang Technological University</td>\n",
       "      <td>College of Business (Nanyang Business School)</td>\n",
       "      <td>Business (3-yr direct Honours Programme)</td>\n",
       "      <td>90.9</td>\n",
       "      <td>85.7</td>\n",
       "      <td>3053</td>\n",
       "      <td>3000</td>\n",
       "      <td>3214</td>\n",
       "      <td>3000</td>\n",
       "      <td>2700</td>\n",
       "      <td>3500</td>\n",
       "    </tr>\n",
       "    <tr>\n",
       "      <th>3</th>\n",
       "      <td>2013</td>\n",
       "      <td>Nanyang Technological University</td>\n",
       "      <td>College of Business (Nanyang Business School)</td>\n",
       "      <td>Business and Computing</td>\n",
       "      <td>87.5</td>\n",
       "      <td>87.5</td>\n",
       "      <td>3557</td>\n",
       "      <td>3400</td>\n",
       "      <td>3615</td>\n",
       "      <td>3400</td>\n",
       "      <td>3000</td>\n",
       "      <td>4100</td>\n",
       "    </tr>\n",
       "    <tr>\n",
       "      <th>4</th>\n",
       "      <td>2013</td>\n",
       "      <td>Nanyang Technological University</td>\n",
       "      <td>College of Engineering</td>\n",
       "      <td>Aerospace Engineering</td>\n",
       "      <td>95.3</td>\n",
       "      <td>95.3</td>\n",
       "      <td>3494</td>\n",
       "      <td>3500</td>\n",
       "      <td>3536</td>\n",
       "      <td>3500</td>\n",
       "      <td>3100</td>\n",
       "      <td>3816</td>\n",
       "    </tr>\n",
       "  </tbody>\n",
       "</table>\n",
       "</div>"
      ],
      "text/plain": [
       "   year                        university  \\\n",
       "0  2013  Nanyang Technological University   \n",
       "1  2013  Nanyang Technological University   \n",
       "2  2013  Nanyang Technological University   \n",
       "3  2013  Nanyang Technological University   \n",
       "4  2013  Nanyang Technological University   \n",
       "\n",
       "                                          school  \\\n",
       "0  College of Business (Nanyang Business School)   \n",
       "1  College of Business (Nanyang Business School)   \n",
       "2  College of Business (Nanyang Business School)   \n",
       "3  College of Business (Nanyang Business School)   \n",
       "4                         College of Engineering   \n",
       "\n",
       "                                        degree employment_rate_overall  \\\n",
       "0                     Accountancy and Business                    97.4   \n",
       "1  Accountancy (3-yr direct Honours Programme)                    97.1   \n",
       "2     Business (3-yr direct Honours Programme)                    90.9   \n",
       "3                       Business and Computing                    87.5   \n",
       "4                        Aerospace Engineering                    95.3   \n",
       "\n",
       "  employment_rate_ft_perm basic_monthly_mean basic_monthly_median  \\\n",
       "0                    96.1               3701                 3200   \n",
       "1                    95.7               2850                 2700   \n",
       "2                    85.7               3053                 3000   \n",
       "3                    87.5               3557                 3400   \n",
       "4                    95.3               3494                 3500   \n",
       "\n",
       "  gross_monthly_mean gross_monthly_median gross_mthly_25_percentile  \\\n",
       "0               3727                 3350                      2900   \n",
       "1               2938                 2700                      2700   \n",
       "2               3214                 3000                      2700   \n",
       "3               3615                 3400                      3000   \n",
       "4               3536                 3500                      3100   \n",
       "\n",
       "  gross_mthly_75_percentile  \n",
       "0                      4000  \n",
       "1                      2900  \n",
       "2                      3500  \n",
       "3                      4100  \n",
       "4                      3816  "
      ]
     },
     "execution_count": 145,
     "metadata": {},
     "output_type": "execute_result"
    }
   ],
   "source": [
    "df = pd.read_csv(\"data/GraduateEmploymentSurveyNTUNUSSITSMUSUSSSUTD.csv\")\n",
    "df.head()"
   ]
  },
  {
   "cell_type": "markdown",
   "metadata": {},
   "source": [
    "First we'll perform some basic data sanitisation - removing NA values and declaring the column data types"
   ]
  },
  {
   "cell_type": "code",
   "execution_count": null,
   "metadata": {},
   "outputs": [],
   "source": [
    "# Remove the rows with na (str)\n",
    "df = df[df['employment_rate_overall'] != 'na']\n",
    "\n",
    "# Specify the datatypes of columns\n",
    "cols_to_change = [col for col in df.columns if col not in \n",
    "                  ['year', 'university', 'school', 'degree']]\n",
    "df = df.astype(dtype={\n",
    "  col: 'float64' for col in cols_to_change\n",
    "})"
   ]
  },
  {
   "cell_type": "markdown",
   "metadata": {},
   "source": [
    "Next, we observe that for each University there might be different names for the degrees and schools, and for degrees there are distinctions between the level of degree obtained (Hons, Cum Laude, etc.). As such, we attempt to remove these distinctions and separate them into different columns to ensure better separation\n",
    "\n",
    "_Note: The cleaning might not be 100% accurate, so please excuse some missed distinctions_"
   ]
  },
  {
   "cell_type": "code",
   "execution_count": null,
   "metadata": {},
   "outputs": [],
   "source": [
    "# Cleaning the school column\n",
    "# Remove any details from brackets\n",
    "df['school'] = df['school'].str.replace(r'\\(.*?\\)', '', regex=True)\n",
    "\n",
    "# Remove any special characters from the back\n",
    "df['school'] = df['school'].str.replace(r'[\\*|\\\\|\\#]+', '', regex=True)\n",
    "\n",
    "# Remove the white space after dash\n",
    "df['school'] = df['school'].str.replace(r'-\\s', '-', regex=True)\n",
    "\n",
    "# Remove leading and trailing whitespace\n",
    "df['school'] = df['school'].str.strip()"
   ]
  },
  {
   "cell_type": "code",
   "execution_count": null,
   "metadata": {},
   "outputs": [],
   "source": [
    "# Cleaning the degree column\n",
    "# Remove special characters from the back\n",
    "df['degree'] = df['degree'].str.replace(r'[\\*|\\\\|\\#|\\^|\\.]+', '', regex=True)\n",
    "\n",
    "# Extract out if they were honours or cum laude programs\n",
    "df['advanced'] = np.where(df['degree'].str.contains(r'Honours|\\(Hons\\)|Cum\\s+Laude'), 1, 0)\n",
    "remove_advanced = r'\\s+with\\s+Honours|\\(Hons\\)|\\(?Cum\\sLaude\\sand\\sabove\\)?'\n",
    "df['degree'] = df['degree'].str.replace(remove_advanced, '', regex=True)\n",
    "\n",
    "# Remove the length of degree\n",
    "df['degree'] = df['degree'].str.replace(r'\\([^()]*\\d[^()]*\\)', '', regex=True)\n",
    "\n",
    "# Remove non-degree related terms\n",
    "df['degree'] = df['degree'].str.replace(r'\\(LLB\\)|\\(MBBS\\)|\\(Land\\)', '', regex=True)\n",
    "\n",
    "# Some degree types are hidden between brackets so we extract them\n",
    "temp = df['degree'].str.extract(r'\\(([^)]+)\\)')\n",
    "df.loc[temp[~temp[0].isna()].index, 'degree'] = temp[~temp[0].isna()][0]\n",
    "\n",
    "# Some degrees are also only expressed after the word \"in\"\n",
    "temp = df['degree'].str.extract(r'\\bin\\b\\s+(.*?)$')\n",
    "df.loc[temp[~temp[0].isna()].index, 'degree'] = temp[~temp[0].isna()][0]\n",
    "\n",
    "# Remove term \"Bachelor of\"\n",
    "df['degree'] = df['degree'].str.replace(r'Bachelor\\sof\\s?', '', regex=True, case=False)\n",
    "\n",
    "# Replace some special characters with their word equivalents\n",
    "df['degree'] = df['degree'].str.replace('&', 'and')\n",
    "df['degree'] = df['degree'].str.replace('/', ' and ')\n",
    "df['degree'] = df['degree'].str.replace('with', '')\n",
    "df['degree'] = df['degree'].str.replace('\\s+', ' ', regex=True)\n",
    "df['degree'] = df['degree'].str.replace('s$', '', regex=True)\n",
    "\n",
    "# Remove leading and trailing whitespace\n",
    "df['degree'] = df['degree'].str.strip()\n",
    "\n",
    "# Reset the index\n",
    "df = df.reset_index(drop=True)"
   ]
  }
 ],
 "metadata": {
  "kernelspec": {
   "display_name": "py311_env",
   "language": "python",
   "name": "python3"
  },
  "language_info": {
   "codemirror_mode": {
    "name": "ipython",
    "version": 3
   },
   "file_extension": ".py",
   "mimetype": "text/x-python",
   "name": "python",
   "nbconvert_exporter": "python",
   "pygments_lexer": "ipython3",
   "version": "3.11.9"
  }
 },
 "nbformat": 4,
 "nbformat_minor": 2
}
