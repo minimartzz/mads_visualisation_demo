{
 "cells": [
  {
   "cell_type": "code",
   "execution_count": null,
   "metadata": {},
   "outputs": [],
   "source": [
    "import pandas as pd\n",
    "import numpy as np\n",
    "import re\n",
    "import hvplot.pandas\n",
    "import panel as pn\n",
    "import holoviews as hv\n",
    "from datetime import datetime\n",
    "\n",
    "pn.extension()\n",
    "pn.config.console_output = 'disable'\n",
    "pn.config.notifications = False"
   ]
  },
  {
   "cell_type": "code",
   "execution_count": null,
   "metadata": {},
   "outputs": [],
   "source": [
    "df = pd.read_csv('temp.csv', parse_dates=['year'])"
   ]
  },
  {
   "cell_type": "code",
   "execution_count": null,
   "metadata": {},
   "outputs": [],
   "source": [
    "# Create various selection groups\n",
    "universities = list(df['university'].unique())\n",
    "years = list(df['year'].dt.date.unique())\n",
    "degrees = list(df['degree'].unique())\n",
    "advanced = list(df['advanced'].unique())\n",
    "\n",
    "COLOURS = ['#264653', '#e9c46a', '#e76f51', '#2a9d8f', '#f4a261']"
   ]
  },
  {
   "cell_type": "code",
   "execution_count": 16,
   "metadata": {},
   "outputs": [
    {
     "data": {
      "application/vnd.jupyter.widget-view+json": {
       "model_id": "48a506f743554bc591dcd5dd624a0ba6",
       "version_major": 2,
       "version_minor": 0
      },
      "text/plain": [
       "BokehModel(combine_events=True, render_bundle={'docs_json': {'4de567f0-99d4-43db-974c-f6a32b5dc1f4': {'version…"
      ]
     },
     "execution_count": 16,
     "metadata": {},
     "output_type": "execute_result"
    }
   ],
   "source": [
    "# Checkbox group for universities\n",
    "## Allows users to select multiple universities at the same time to compare them\n",
    "uni_select = pn.widgets.Select(\n",
    "  name='Select Universities:',\n",
    "  value='National University of Singapore',\n",
    "  options=universities,\n",
    ")\n",
    "\n",
    "## Allow users to select the range of years they want to see\n",
    "year_slider = pn.widgets.DateRangeSlider(\n",
    "  name='Graduate Date Range',\n",
    "  start=years[0],\n",
    "  end=years[-1],\n",
    "  value=(years[0], years[-1]),\n",
    "  step=365,\n",
    "  # format='%Y'\n",
    ")\n",
    "\n",
    "## Allow users to select multiple degrees at the same time\n",
    "degree_multi_select = pn.widgets.MultiChoice(\n",
    "  name='Degrees to Compare (limit 5)',\n",
    "  options=degrees,\n",
    "  value=['Accountancy', 'Business Administration', 'Social Science', 'Art'],\n",
    "  max_items=5\n",
    ")\n",
    "\n",
    "pn.Column(\n",
    "  uni_select,\n",
    "  pn.Row(year_slider, degree_multi_select)\n",
    ")"
   ]
  },
  {
   "cell_type": "code",
   "execution_count": null,
   "metadata": {},
   "outputs": [],
   "source": [
    "@pn.depends(uni_select, year_slider, degree_multi_select)\n",
    "def bar_graphs_plot(uni_select, year_slider, degree_multi_select):\n",
    "  df3 = df.copy()\n",
    "  # Prepare the data for the plot\n",
    "  df3['year'] = df3['year'].dt.strftime(\"%Y\")\n",
    "  df3 = df3[\n",
    "    (df3['university'] == uni_select) &\n",
    "    (df3['year'] == str(year_slider[1].year)) &\n",
    "    (df3['degree'].isin(degree_multi_select)) &\n",
    "    (df3['advanced'] == 0) # automatically filter out advanced further studies\n",
    "  ]\n",
    "  df3 = df3.sort_values('employment_rate_overall')\n",
    "\n",
    "  # Plot the bar graph\n",
    "  plot3 = df3.hvplot.barh(\n",
    "    y='employment_rate_overall',\n",
    "    x='degree',\n",
    "    color='#39b9e8',\n",
    "    ylabel='Full-time Employment Percentage (%)',\n",
    "    xlabel='Degree',\n",
    "    title=f'Full-time Employment Percentage in \\n{uni_select} ({year_slider[1].year})'\n",
    "  )\n",
    "\n",
    "  return plot3\n",
    "\n",
    "# Create layout\n",
    "layout = pn.Column(\n",
    "  pn.Row(uni_select),\n",
    "  pn.Row(year_slider, degree_multi_select),\n",
    "  bar_graphs_plot\n",
    ")\n",
    "\n",
    "# Display\n",
    "layout"
   ]
  },
  {
   "cell_type": "code",
   "execution_count": null,
   "metadata": {},
   "outputs": [],
   "source": [
    "@pn.depends(uni_select, year_slider, degree_multi_select)\n",
    "def error_bars_plot(uni_select, year_slider, degree_multi_select):\n",
    "  df2 = df.copy()\n",
    "  # Prepare the data for the plot\n",
    "  df2['year'] = df2['year'].dt.strftime(\"%Y\")\n",
    "  df2 = df2[\n",
    "    (df2['university'] == uni_select) &\n",
    "    (df2['year'] == str(year_slider[1].year)) &\n",
    "    (df2['degree'].isin(degree_multi_select)) &\n",
    "    (df2['advanced'] == 0) # automatically filter out advanced further studies\n",
    "  ]\n",
    "  # Get the difference between the 25th/ 75th percentile and the median\n",
    "  df2['lower_error'] = df2['gross_monthly_median'] - df2['gross_mthly_25_percentile']\n",
    "  df2['upper_error'] = df2['gross_mthly_75_percentile'] - df2['gross_monthly_median']\n",
    "\n",
    "  # Create the scatter plot point for median\n",
    "  median = df2.hvplot.scatter(\n",
    "    x='degree',\n",
    "    y='gross_monthly_median',\n",
    "    color='#39b9e8',\n",
    "    size=100,\n",
    "    marker='s',\n",
    "    ylabel='Gross Monthly Salary',\n",
    "    xlabel='Degree',\n",
    "    title=f'Errors for Gross Monthly Salary in {year_slider[1]}',\n",
    "    legend=False\n",
    "  )\n",
    "\n",
    "  # Create the error bars using the calculated errors\n",
    "  errors = df2.hvplot.errorbars(\n",
    "    x='degree',\n",
    "    y='gross_monthly_median',  # Median as central value\n",
    "    yerr1='lower_error',\n",
    "    yerr2=\"upper_error\",\n",
    "    color='black',\n",
    "    line_width=2,\n",
    "    legend=False\n",
    "  )\n",
    "\n",
    "  plot2 = errors * median\n",
    "\n",
    "  return plot2\n",
    "\n",
    "# Create layout\n",
    "layout = pn.Column(\n",
    "  pn.Row(uni_select),\n",
    "  pn.Row(year_slider, degree_multi_select),\n",
    "  error_bars_plot\n",
    ")\n",
    "\n",
    "# Display\n",
    "layout"
   ]
  },
  {
   "cell_type": "code",
   "execution_count": null,
   "metadata": {},
   "outputs": [],
   "source": []
  },
  {
   "cell_type": "code",
   "execution_count": null,
   "metadata": {},
   "outputs": [],
   "source": []
  },
  {
   "cell_type": "code",
   "execution_count": 24,
   "metadata": {},
   "outputs": [
    {
     "data": {
      "application/vnd.jupyter.widget-view+json": {
       "model_id": "f165cdd49df14301be62ec0327ee0f9e",
       "version_major": 2,
       "version_minor": 0
      },
      "text/plain": [
       "BokehModel(combine_events=True, render_bundle={'docs_json': {'a8bad5e8-fe07-4e1b-b38b-b1d19e5b2154': {'version…"
      ]
     },
     "execution_count": 24,
     "metadata": {},
     "output_type": "execute_result"
    }
   ],
   "source": [
    "degree_multi_select"
   ]
  },
  {
   "cell_type": "code",
   "execution_count": null,
   "metadata": {},
   "outputs": [],
   "source": []
  },
  {
   "cell_type": "code",
   "execution_count": 34,
   "metadata": {},
   "outputs": [
    {
     "data": {
      "text/plain": [
       "['Business and Computing', 'Laws', 'Science', 'Business Administration']"
      ]
     },
     "execution_count": 34,
     "metadata": {},
     "output_type": "execute_result"
    }
   ],
   "source": [
    "degree_multi_select.value"
   ]
  },
  {
   "cell_type": "code",
   "execution_count": 37,
   "metadata": {},
   "outputs": [],
   "source": [
    "df4 = df.copy()\n",
    "\n",
    "# Prepare the data for the plot\n",
    "df4['year'] = df4['year'].dt.strftime(\"%Y\")\n",
    "df4 = df4[\n",
    "  (df4['university'] == uni_select.value) &\n",
    "  (df4['year'] == str(year_slider.value[1].year)) &\n",
    "  (df4['degree'].isin(degree_multi_select.value))\n",
    "]\n",
    "\n",
    "# Filter out degrees that have both advanced degrees\n",
    "adv_filter = df4.groupby('degree').count().reset_index()\n",
    "adv_filter = list(adv_filter[adv_filter['advanced'] == 2]['degree'])\n",
    "df4 = df4[df4['degree'].isin(adv_filter)]\n",
    "\n",
    "# Pivot dataframe into the advanced and not advanced columns\n",
    "df4 = df4.pivot(index='degree', values='basic_monthly_mean', columns='advanced').reset_index()\n",
    "df4 = df4.rename({0: 'start', 1: 'end'}, axis=1)"
   ]
  },
  {
   "cell_type": "code",
   "execution_count": 38,
   "metadata": {},
   "outputs": [
    {
     "data": {
      "text/html": [
       "<div>\n",
       "<style scoped>\n",
       "    .dataframe tbody tr th:only-of-type {\n",
       "        vertical-align: middle;\n",
       "    }\n",
       "\n",
       "    .dataframe tbody tr th {\n",
       "        vertical-align: top;\n",
       "    }\n",
       "\n",
       "    .dataframe thead th {\n",
       "        text-align: right;\n",
       "    }\n",
       "</style>\n",
       "<table border=\"1\" class=\"dataframe\">\n",
       "  <thead>\n",
       "    <tr style=\"text-align: right;\">\n",
       "      <th>advanced</th>\n",
       "      <th>degree</th>\n",
       "      <th>start</th>\n",
       "      <th>end</th>\n",
       "    </tr>\n",
       "  </thead>\n",
       "  <tbody>\n",
       "    <tr>\n",
       "      <th>0</th>\n",
       "      <td>Business Administration</td>\n",
       "      <td>3770.0</td>\n",
       "      <td>4272.0</td>\n",
       "    </tr>\n",
       "  </tbody>\n",
       "</table>\n",
       "</div>"
      ],
      "text/plain": [
       "advanced                   degree   start     end\n",
       "0         Business Administration  3770.0  4272.0"
      ]
     },
     "execution_count": 38,
     "metadata": {},
     "output_type": "execute_result"
    }
   ],
   "source": [
    "df4"
   ]
  },
  {
   "cell_type": "code",
   "execution_count": null,
   "metadata": {},
   "outputs": [
    {
     "data": {
      "application/vnd.jupyter.widget-view+json": {
       "model_id": "d047a3c1f99e4628af8d4c8edfa1c5f1",
       "version_major": 2,
       "version_minor": 0
      },
      "text/plain": [
       "BokehModel(combine_events=True, render_bundle={'docs_json': {'dcec274b-7fc5-409f-b041-7b70483bce27': {'version…"
      ]
     },
     "execution_count": 39,
     "metadata": {},
     "output_type": "execute_result"
    },
    {
     "ename": "UnknownReferenceError",
     "evalue": "can't resolve reference '2ad1140e-144f-489f-bce8-c15b7ee51940'",
     "output_type": "error",
     "traceback": [
      "\u001b[31m---------------------------------------------------------------------------\u001b[39m",
      "\u001b[31mUnknownReferenceError\u001b[39m                     Traceback (most recent call last)",
      "\u001b[36mFile \u001b[39m\u001b[32mc:\\Users\\User\\AppData\\Local\\pypoetry\\Cache\\virtualenvs\\visualisation-demo-cdwvYfXi-py3.12\\Lib\\site-packages\\jupyter_bokeh\\widgets.py:135\u001b[39m, in \u001b[36mBokehModel._sync_model\u001b[39m\u001b[34m(self, _model, content, _buffers)\u001b[39m\n\u001b[32m    133\u001b[39m \u001b[38;5;28;01massert\u001b[39;00m \u001b[38;5;28mself\u001b[39m._document \u001b[38;5;129;01mis\u001b[39;00m \u001b[38;5;129;01mnot\u001b[39;00m \u001b[38;5;28;01mNone\u001b[39;00m\n\u001b[32m    134\u001b[39m deserializer = Deserializer(\u001b[38;5;28mlist\u001b[39m(\u001b[38;5;28mself\u001b[39m._document.models), setter=setter)\n\u001b[32m--> \u001b[39m\u001b[32m135\u001b[39m event = \u001b[43mdeserializer\u001b[49m\u001b[43m.\u001b[49m\u001b[43mdeserialize\u001b[49m\u001b[43m(\u001b[49m\u001b[43mSerialized\u001b[49m\u001b[43m(\u001b[49m\u001b[43mcontent\u001b[49m\u001b[43m=\u001b[49m\u001b[43mcontent\u001b[49m\u001b[43m,\u001b[49m\u001b[43m \u001b[49m\u001b[43mbuffers\u001b[49m\u001b[43m=\u001b[49m\u001b[43m[\u001b[49m\u001b[43m]\u001b[49m\u001b[43m)\u001b[49m\u001b[43m)\u001b[49m\n\u001b[32m    137\u001b[39m kind = event[\u001b[33m\"\u001b[39m\u001b[33mkind\u001b[39m\u001b[33m\"\u001b[39m]\n\u001b[32m    138\u001b[39m \u001b[38;5;28;01mif\u001b[39;00m kind == \u001b[33m\"\u001b[39m\u001b[33mModelChanged\u001b[39m\u001b[33m\"\u001b[39m:\n",
      "\u001b[36mFile \u001b[39m\u001b[32mc:\\Users\\User\\AppData\\Local\\pypoetry\\Cache\\virtualenvs\\visualisation-demo-cdwvYfXi-py3.12\\Lib\\site-packages\\bokeh\\core\\serialization.py:513\u001b[39m, in \u001b[36mDeserializer.deserialize\u001b[39m\u001b[34m(self, obj)\u001b[39m\n\u001b[32m    511\u001b[39m \u001b[38;5;28;01mdef\u001b[39;00m\u001b[38;5;250m \u001b[39m\u001b[34mdeserialize\u001b[39m(\u001b[38;5;28mself\u001b[39m, obj: Any | Serialized[Any]) -> Any:\n\u001b[32m    512\u001b[39m     \u001b[38;5;28;01mif\u001b[39;00m \u001b[38;5;28misinstance\u001b[39m(obj, Serialized):\n\u001b[32m--> \u001b[39m\u001b[32m513\u001b[39m         \u001b[38;5;28;01mreturn\u001b[39;00m \u001b[38;5;28;43mself\u001b[39;49m\u001b[43m.\u001b[49m\u001b[43mdecode\u001b[49m\u001b[43m(\u001b[49m\u001b[43mobj\u001b[49m\u001b[43m.\u001b[49m\u001b[43mcontent\u001b[49m\u001b[43m,\u001b[49m\u001b[43m \u001b[49m\u001b[43mobj\u001b[49m\u001b[43m.\u001b[49m\u001b[43mbuffers\u001b[49m\u001b[43m)\u001b[49m\n\u001b[32m    514\u001b[39m     \u001b[38;5;28;01melse\u001b[39;00m:\n\u001b[32m    515\u001b[39m         \u001b[38;5;28;01mreturn\u001b[39;00m \u001b[38;5;28mself\u001b[39m.decode(obj)\n",
      "\u001b[36mFile \u001b[39m\u001b[32mc:\\Users\\User\\AppData\\Local\\pypoetry\\Cache\\virtualenvs\\visualisation-demo-cdwvYfXi-py3.12\\Lib\\site-packages\\bokeh\\core\\serialization.py:528\u001b[39m, in \u001b[36mDeserializer.decode\u001b[39m\u001b[34m(self, obj, buffers)\u001b[39m\n\u001b[32m    525\u001b[39m \u001b[38;5;28mself\u001b[39m._decoding = \u001b[38;5;28;01mTrue\u001b[39;00m\n\u001b[32m    527\u001b[39m \u001b[38;5;28;01mtry\u001b[39;00m:\n\u001b[32m--> \u001b[39m\u001b[32m528\u001b[39m     \u001b[38;5;28;01mreturn\u001b[39;00m \u001b[38;5;28;43mself\u001b[39;49m\u001b[43m.\u001b[49m\u001b[43m_decode\u001b[49m\u001b[43m(\u001b[49m\u001b[43mobj\u001b[49m\u001b[43m)\u001b[49m\n\u001b[32m    529\u001b[39m \u001b[38;5;28;01mfinally\u001b[39;00m:\n\u001b[32m    530\u001b[39m     \u001b[38;5;28mself\u001b[39m._buffers.clear()\n",
      "\u001b[36mFile \u001b[39m\u001b[32mc:\\Users\\User\\AppData\\Local\\pypoetry\\Cache\\virtualenvs\\visualisation-demo-cdwvYfXi-py3.12\\Lib\\site-packages\\bokeh\\core\\serialization.py:569\u001b[39m, in \u001b[36mDeserializer._decode\u001b[39m\u001b[34m(self, obj)\u001b[39m\n\u001b[32m    567\u001b[39m         \u001b[38;5;28;01mreturn\u001b[39;00m \u001b[38;5;28mself\u001b[39m._decode_ref(cast(Ref, obj))\n\u001b[32m    568\u001b[39m     \u001b[38;5;28;01melse\u001b[39;00m:\n\u001b[32m--> \u001b[39m\u001b[32m569\u001b[39m         \u001b[38;5;28;01mreturn\u001b[39;00m {key: \u001b[38;5;28;43mself\u001b[39;49m\u001b[43m.\u001b[49m\u001b[43m_decode\u001b[49m\u001b[43m(\u001b[49m\u001b[43mval\u001b[49m\u001b[43m)\u001b[49m \u001b[38;5;28;01mfor\u001b[39;00m key, val \u001b[38;5;129;01min\u001b[39;00m obj.items()}\n\u001b[32m    570\u001b[39m \u001b[38;5;28;01melif\u001b[39;00m \u001b[38;5;28misinstance\u001b[39m(obj, \u001b[38;5;28mlist\u001b[39m):\n\u001b[32m    571\u001b[39m     \u001b[38;5;28;01mreturn\u001b[39;00m [\u001b[38;5;28mself\u001b[39m._decode(entry) \u001b[38;5;28;01mfor\u001b[39;00m entry \u001b[38;5;129;01min\u001b[39;00m obj]\n",
      "\u001b[36mFile \u001b[39m\u001b[32mc:\\Users\\User\\AppData\\Local\\pypoetry\\Cache\\virtualenvs\\visualisation-demo-cdwvYfXi-py3.12\\Lib\\site-packages\\bokeh\\core\\serialization.py:567\u001b[39m, in \u001b[36mDeserializer._decode\u001b[39m\u001b[34m(self, obj)\u001b[39m\n\u001b[32m    565\u001b[39m             \u001b[38;5;28mself\u001b[39m.error(\u001b[33mf\u001b[39m\u001b[33m\"\u001b[39m\u001b[33munable to decode an object of type \u001b[39m\u001b[33m'\u001b[39m\u001b[38;5;132;01m{\u001b[39;00m\u001b[38;5;28mtype\u001b[39m\u001b[38;5;132;01m}\u001b[39;00m\u001b[33m'\u001b[39m\u001b[33m\"\u001b[39m)\n\u001b[32m    566\u001b[39m \u001b[38;5;28;01melif\u001b[39;00m \u001b[33m\"\u001b[39m\u001b[33mid\u001b[39m\u001b[33m\"\u001b[39m \u001b[38;5;129;01min\u001b[39;00m obj:\n\u001b[32m--> \u001b[39m\u001b[32m567\u001b[39m     \u001b[38;5;28;01mreturn\u001b[39;00m \u001b[38;5;28;43mself\u001b[39;49m\u001b[43m.\u001b[49m\u001b[43m_decode_ref\u001b[49m\u001b[43m(\u001b[49m\u001b[43mcast\u001b[49m\u001b[43m(\u001b[49m\u001b[43mRef\u001b[49m\u001b[43m,\u001b[49m\u001b[43m \u001b[49m\u001b[43mobj\u001b[49m\u001b[43m)\u001b[49m\u001b[43m)\u001b[49m\n\u001b[32m    568\u001b[39m \u001b[38;5;28;01melse\u001b[39;00m:\n\u001b[32m    569\u001b[39m     \u001b[38;5;28;01mreturn\u001b[39;00m {key: \u001b[38;5;28mself\u001b[39m._decode(val) \u001b[38;5;28;01mfor\u001b[39;00m key, val \u001b[38;5;129;01min\u001b[39;00m obj.items()}\n",
      "\u001b[36mFile \u001b[39m\u001b[32mc:\\Users\\User\\AppData\\Local\\pypoetry\\Cache\\virtualenvs\\visualisation-demo-cdwvYfXi-py3.12\\Lib\\site-packages\\bokeh\\core\\serialization.py:581\u001b[39m, in \u001b[36mDeserializer._decode_ref\u001b[39m\u001b[34m(self, obj)\u001b[39m\n\u001b[32m    579\u001b[39m     \u001b[38;5;28;01mreturn\u001b[39;00m instance\n\u001b[32m    580\u001b[39m \u001b[38;5;28;01melse\u001b[39;00m:\n\u001b[32m--> \u001b[39m\u001b[32m581\u001b[39m     \u001b[38;5;28;43mself\u001b[39;49m\u001b[43m.\u001b[49m\u001b[43merror\u001b[49m\u001b[43m(\u001b[49m\u001b[43mUnknownReferenceError\u001b[49m\u001b[43m(\u001b[49m\u001b[38;5;28;43mid\u001b[39;49m\u001b[43m)\u001b[49m\u001b[43m)\u001b[49m\n",
      "\u001b[36mFile \u001b[39m\u001b[32mc:\\Users\\User\\AppData\\Local\\pypoetry\\Cache\\virtualenvs\\visualisation-demo-cdwvYfXi-py3.12\\Lib\\site-packages\\bokeh\\core\\serialization.py:732\u001b[39m, in \u001b[36mDeserializer.error\u001b[39m\u001b[34m(self, error)\u001b[39m\n\u001b[32m    730\u001b[39m     \u001b[38;5;28;01mraise\u001b[39;00m DeserializationError(error)\n\u001b[32m    731\u001b[39m \u001b[38;5;28;01melse\u001b[39;00m:\n\u001b[32m--> \u001b[39m\u001b[32m732\u001b[39m     \u001b[38;5;28;01mraise\u001b[39;00m error\n",
      "\u001b[31mUnknownReferenceError\u001b[39m: can't resolve reference '2ad1140e-144f-489f-bce8-c15b7ee51940'"
     ]
    },
    {
     "ename": "UnknownReferenceError",
     "evalue": "can't resolve reference '2ad1140e-144f-489f-bce8-c15b7ee51940'",
     "output_type": "error",
     "traceback": [
      "\u001b[31m---------------------------------------------------------------------------\u001b[39m",
      "\u001b[31mUnknownReferenceError\u001b[39m                     Traceback (most recent call last)",
      "\u001b[36mFile \u001b[39m\u001b[32mc:\\Users\\User\\AppData\\Local\\pypoetry\\Cache\\virtualenvs\\visualisation-demo-cdwvYfXi-py3.12\\Lib\\site-packages\\jupyter_bokeh\\widgets.py:135\u001b[39m, in \u001b[36mBokehModel._sync_model\u001b[39m\u001b[34m(self, _model, content, _buffers)\u001b[39m\n\u001b[32m    133\u001b[39m \u001b[38;5;28;01massert\u001b[39;00m \u001b[38;5;28mself\u001b[39m._document \u001b[38;5;129;01mis\u001b[39;00m \u001b[38;5;129;01mnot\u001b[39;00m \u001b[38;5;28;01mNone\u001b[39;00m\n\u001b[32m    134\u001b[39m deserializer = Deserializer(\u001b[38;5;28mlist\u001b[39m(\u001b[38;5;28mself\u001b[39m._document.models), setter=setter)\n\u001b[32m--> \u001b[39m\u001b[32m135\u001b[39m event = \u001b[43mdeserializer\u001b[49m\u001b[43m.\u001b[49m\u001b[43mdeserialize\u001b[49m\u001b[43m(\u001b[49m\u001b[43mSerialized\u001b[49m\u001b[43m(\u001b[49m\u001b[43mcontent\u001b[49m\u001b[43m=\u001b[49m\u001b[43mcontent\u001b[49m\u001b[43m,\u001b[49m\u001b[43m \u001b[49m\u001b[43mbuffers\u001b[49m\u001b[43m=\u001b[49m\u001b[43m[\u001b[49m\u001b[43m]\u001b[49m\u001b[43m)\u001b[49m\u001b[43m)\u001b[49m\n\u001b[32m    137\u001b[39m kind = event[\u001b[33m\"\u001b[39m\u001b[33mkind\u001b[39m\u001b[33m\"\u001b[39m]\n\u001b[32m    138\u001b[39m \u001b[38;5;28;01mif\u001b[39;00m kind == \u001b[33m\"\u001b[39m\u001b[33mModelChanged\u001b[39m\u001b[33m\"\u001b[39m:\n",
      "\u001b[36mFile \u001b[39m\u001b[32mc:\\Users\\User\\AppData\\Local\\pypoetry\\Cache\\virtualenvs\\visualisation-demo-cdwvYfXi-py3.12\\Lib\\site-packages\\bokeh\\core\\serialization.py:513\u001b[39m, in \u001b[36mDeserializer.deserialize\u001b[39m\u001b[34m(self, obj)\u001b[39m\n\u001b[32m    511\u001b[39m \u001b[38;5;28;01mdef\u001b[39;00m\u001b[38;5;250m \u001b[39m\u001b[34mdeserialize\u001b[39m(\u001b[38;5;28mself\u001b[39m, obj: Any | Serialized[Any]) -> Any:\n\u001b[32m    512\u001b[39m     \u001b[38;5;28;01mif\u001b[39;00m \u001b[38;5;28misinstance\u001b[39m(obj, Serialized):\n\u001b[32m--> \u001b[39m\u001b[32m513\u001b[39m         \u001b[38;5;28;01mreturn\u001b[39;00m \u001b[38;5;28;43mself\u001b[39;49m\u001b[43m.\u001b[49m\u001b[43mdecode\u001b[49m\u001b[43m(\u001b[49m\u001b[43mobj\u001b[49m\u001b[43m.\u001b[49m\u001b[43mcontent\u001b[49m\u001b[43m,\u001b[49m\u001b[43m \u001b[49m\u001b[43mobj\u001b[49m\u001b[43m.\u001b[49m\u001b[43mbuffers\u001b[49m\u001b[43m)\u001b[49m\n\u001b[32m    514\u001b[39m     \u001b[38;5;28;01melse\u001b[39;00m:\n\u001b[32m    515\u001b[39m         \u001b[38;5;28;01mreturn\u001b[39;00m \u001b[38;5;28mself\u001b[39m.decode(obj)\n",
      "\u001b[36mFile \u001b[39m\u001b[32mc:\\Users\\User\\AppData\\Local\\pypoetry\\Cache\\virtualenvs\\visualisation-demo-cdwvYfXi-py3.12\\Lib\\site-packages\\bokeh\\core\\serialization.py:528\u001b[39m, in \u001b[36mDeserializer.decode\u001b[39m\u001b[34m(self, obj, buffers)\u001b[39m\n\u001b[32m    525\u001b[39m \u001b[38;5;28mself\u001b[39m._decoding = \u001b[38;5;28;01mTrue\u001b[39;00m\n\u001b[32m    527\u001b[39m \u001b[38;5;28;01mtry\u001b[39;00m:\n\u001b[32m--> \u001b[39m\u001b[32m528\u001b[39m     \u001b[38;5;28;01mreturn\u001b[39;00m \u001b[38;5;28;43mself\u001b[39;49m\u001b[43m.\u001b[49m\u001b[43m_decode\u001b[49m\u001b[43m(\u001b[49m\u001b[43mobj\u001b[49m\u001b[43m)\u001b[49m\n\u001b[32m    529\u001b[39m \u001b[38;5;28;01mfinally\u001b[39;00m:\n\u001b[32m    530\u001b[39m     \u001b[38;5;28mself\u001b[39m._buffers.clear()\n",
      "\u001b[36mFile \u001b[39m\u001b[32mc:\\Users\\User\\AppData\\Local\\pypoetry\\Cache\\virtualenvs\\visualisation-demo-cdwvYfXi-py3.12\\Lib\\site-packages\\bokeh\\core\\serialization.py:569\u001b[39m, in \u001b[36mDeserializer._decode\u001b[39m\u001b[34m(self, obj)\u001b[39m\n\u001b[32m    567\u001b[39m         \u001b[38;5;28;01mreturn\u001b[39;00m \u001b[38;5;28mself\u001b[39m._decode_ref(cast(Ref, obj))\n\u001b[32m    568\u001b[39m     \u001b[38;5;28;01melse\u001b[39;00m:\n\u001b[32m--> \u001b[39m\u001b[32m569\u001b[39m         \u001b[38;5;28;01mreturn\u001b[39;00m {key: \u001b[38;5;28;43mself\u001b[39;49m\u001b[43m.\u001b[49m\u001b[43m_decode\u001b[49m\u001b[43m(\u001b[49m\u001b[43mval\u001b[49m\u001b[43m)\u001b[49m \u001b[38;5;28;01mfor\u001b[39;00m key, val \u001b[38;5;129;01min\u001b[39;00m obj.items()}\n\u001b[32m    570\u001b[39m \u001b[38;5;28;01melif\u001b[39;00m \u001b[38;5;28misinstance\u001b[39m(obj, \u001b[38;5;28mlist\u001b[39m):\n\u001b[32m    571\u001b[39m     \u001b[38;5;28;01mreturn\u001b[39;00m [\u001b[38;5;28mself\u001b[39m._decode(entry) \u001b[38;5;28;01mfor\u001b[39;00m entry \u001b[38;5;129;01min\u001b[39;00m obj]\n",
      "\u001b[36mFile \u001b[39m\u001b[32mc:\\Users\\User\\AppData\\Local\\pypoetry\\Cache\\virtualenvs\\visualisation-demo-cdwvYfXi-py3.12\\Lib\\site-packages\\bokeh\\core\\serialization.py:567\u001b[39m, in \u001b[36mDeserializer._decode\u001b[39m\u001b[34m(self, obj)\u001b[39m\n\u001b[32m    565\u001b[39m             \u001b[38;5;28mself\u001b[39m.error(\u001b[33mf\u001b[39m\u001b[33m\"\u001b[39m\u001b[33munable to decode an object of type \u001b[39m\u001b[33m'\u001b[39m\u001b[38;5;132;01m{\u001b[39;00m\u001b[38;5;28mtype\u001b[39m\u001b[38;5;132;01m}\u001b[39;00m\u001b[33m'\u001b[39m\u001b[33m\"\u001b[39m)\n\u001b[32m    566\u001b[39m \u001b[38;5;28;01melif\u001b[39;00m \u001b[33m\"\u001b[39m\u001b[33mid\u001b[39m\u001b[33m\"\u001b[39m \u001b[38;5;129;01min\u001b[39;00m obj:\n\u001b[32m--> \u001b[39m\u001b[32m567\u001b[39m     \u001b[38;5;28;01mreturn\u001b[39;00m \u001b[38;5;28;43mself\u001b[39;49m\u001b[43m.\u001b[49m\u001b[43m_decode_ref\u001b[49m\u001b[43m(\u001b[49m\u001b[43mcast\u001b[49m\u001b[43m(\u001b[49m\u001b[43mRef\u001b[49m\u001b[43m,\u001b[49m\u001b[43m \u001b[49m\u001b[43mobj\u001b[49m\u001b[43m)\u001b[49m\u001b[43m)\u001b[49m\n\u001b[32m    568\u001b[39m \u001b[38;5;28;01melse\u001b[39;00m:\n\u001b[32m    569\u001b[39m     \u001b[38;5;28;01mreturn\u001b[39;00m {key: \u001b[38;5;28mself\u001b[39m._decode(val) \u001b[38;5;28;01mfor\u001b[39;00m key, val \u001b[38;5;129;01min\u001b[39;00m obj.items()}\n",
      "\u001b[36mFile \u001b[39m\u001b[32mc:\\Users\\User\\AppData\\Local\\pypoetry\\Cache\\virtualenvs\\visualisation-demo-cdwvYfXi-py3.12\\Lib\\site-packages\\bokeh\\core\\serialization.py:581\u001b[39m, in \u001b[36mDeserializer._decode_ref\u001b[39m\u001b[34m(self, obj)\u001b[39m\n\u001b[32m    579\u001b[39m     \u001b[38;5;28;01mreturn\u001b[39;00m instance\n\u001b[32m    580\u001b[39m \u001b[38;5;28;01melse\u001b[39;00m:\n\u001b[32m--> \u001b[39m\u001b[32m581\u001b[39m     \u001b[38;5;28;43mself\u001b[39;49m\u001b[43m.\u001b[49m\u001b[43merror\u001b[49m\u001b[43m(\u001b[49m\u001b[43mUnknownReferenceError\u001b[49m\u001b[43m(\u001b[49m\u001b[38;5;28;43mid\u001b[39;49m\u001b[43m)\u001b[49m\u001b[43m)\u001b[49m\n",
      "\u001b[36mFile \u001b[39m\u001b[32mc:\\Users\\User\\AppData\\Local\\pypoetry\\Cache\\virtualenvs\\visualisation-demo-cdwvYfXi-py3.12\\Lib\\site-packages\\bokeh\\core\\serialization.py:732\u001b[39m, in \u001b[36mDeserializer.error\u001b[39m\u001b[34m(self, error)\u001b[39m\n\u001b[32m    730\u001b[39m     \u001b[38;5;28;01mraise\u001b[39;00m DeserializationError(error)\n\u001b[32m    731\u001b[39m \u001b[38;5;28;01melse\u001b[39;00m:\n\u001b[32m--> \u001b[39m\u001b[32m732\u001b[39m     \u001b[38;5;28;01mraise\u001b[39;00m error\n",
      "\u001b[31mUnknownReferenceError\u001b[39m: can't resolve reference '2ad1140e-144f-489f-bce8-c15b7ee51940'"
     ]
    },
    {
     "ename": "UnknownReferenceError",
     "evalue": "can't resolve reference '2ad1140e-144f-489f-bce8-c15b7ee51940'",
     "output_type": "error",
     "traceback": [
      "\u001b[31m---------------------------------------------------------------------------\u001b[39m",
      "\u001b[31mUnknownReferenceError\u001b[39m                     Traceback (most recent call last)",
      "\u001b[36mFile \u001b[39m\u001b[32mc:\\Users\\User\\AppData\\Local\\pypoetry\\Cache\\virtualenvs\\visualisation-demo-cdwvYfXi-py3.12\\Lib\\site-packages\\jupyter_bokeh\\widgets.py:135\u001b[39m, in \u001b[36mBokehModel._sync_model\u001b[39m\u001b[34m(self, _model, content, _buffers)\u001b[39m\n\u001b[32m    133\u001b[39m \u001b[38;5;28;01massert\u001b[39;00m \u001b[38;5;28mself\u001b[39m._document \u001b[38;5;129;01mis\u001b[39;00m \u001b[38;5;129;01mnot\u001b[39;00m \u001b[38;5;28;01mNone\u001b[39;00m\n\u001b[32m    134\u001b[39m deserializer = Deserializer(\u001b[38;5;28mlist\u001b[39m(\u001b[38;5;28mself\u001b[39m._document.models), setter=setter)\n\u001b[32m--> \u001b[39m\u001b[32m135\u001b[39m event = \u001b[43mdeserializer\u001b[49m\u001b[43m.\u001b[49m\u001b[43mdeserialize\u001b[49m\u001b[43m(\u001b[49m\u001b[43mSerialized\u001b[49m\u001b[43m(\u001b[49m\u001b[43mcontent\u001b[49m\u001b[43m=\u001b[49m\u001b[43mcontent\u001b[49m\u001b[43m,\u001b[49m\u001b[43m \u001b[49m\u001b[43mbuffers\u001b[49m\u001b[43m=\u001b[49m\u001b[43m[\u001b[49m\u001b[43m]\u001b[49m\u001b[43m)\u001b[49m\u001b[43m)\u001b[49m\n\u001b[32m    137\u001b[39m kind = event[\u001b[33m\"\u001b[39m\u001b[33mkind\u001b[39m\u001b[33m\"\u001b[39m]\n\u001b[32m    138\u001b[39m \u001b[38;5;28;01mif\u001b[39;00m kind == \u001b[33m\"\u001b[39m\u001b[33mModelChanged\u001b[39m\u001b[33m\"\u001b[39m:\n",
      "\u001b[36mFile \u001b[39m\u001b[32mc:\\Users\\User\\AppData\\Local\\pypoetry\\Cache\\virtualenvs\\visualisation-demo-cdwvYfXi-py3.12\\Lib\\site-packages\\bokeh\\core\\serialization.py:513\u001b[39m, in \u001b[36mDeserializer.deserialize\u001b[39m\u001b[34m(self, obj)\u001b[39m\n\u001b[32m    511\u001b[39m \u001b[38;5;28;01mdef\u001b[39;00m\u001b[38;5;250m \u001b[39m\u001b[34mdeserialize\u001b[39m(\u001b[38;5;28mself\u001b[39m, obj: Any | Serialized[Any]) -> Any:\n\u001b[32m    512\u001b[39m     \u001b[38;5;28;01mif\u001b[39;00m \u001b[38;5;28misinstance\u001b[39m(obj, Serialized):\n\u001b[32m--> \u001b[39m\u001b[32m513\u001b[39m         \u001b[38;5;28;01mreturn\u001b[39;00m \u001b[38;5;28;43mself\u001b[39;49m\u001b[43m.\u001b[49m\u001b[43mdecode\u001b[49m\u001b[43m(\u001b[49m\u001b[43mobj\u001b[49m\u001b[43m.\u001b[49m\u001b[43mcontent\u001b[49m\u001b[43m,\u001b[49m\u001b[43m \u001b[49m\u001b[43mobj\u001b[49m\u001b[43m.\u001b[49m\u001b[43mbuffers\u001b[49m\u001b[43m)\u001b[49m\n\u001b[32m    514\u001b[39m     \u001b[38;5;28;01melse\u001b[39;00m:\n\u001b[32m    515\u001b[39m         \u001b[38;5;28;01mreturn\u001b[39;00m \u001b[38;5;28mself\u001b[39m.decode(obj)\n",
      "\u001b[36mFile \u001b[39m\u001b[32mc:\\Users\\User\\AppData\\Local\\pypoetry\\Cache\\virtualenvs\\visualisation-demo-cdwvYfXi-py3.12\\Lib\\site-packages\\bokeh\\core\\serialization.py:528\u001b[39m, in \u001b[36mDeserializer.decode\u001b[39m\u001b[34m(self, obj, buffers)\u001b[39m\n\u001b[32m    525\u001b[39m \u001b[38;5;28mself\u001b[39m._decoding = \u001b[38;5;28;01mTrue\u001b[39;00m\n\u001b[32m    527\u001b[39m \u001b[38;5;28;01mtry\u001b[39;00m:\n\u001b[32m--> \u001b[39m\u001b[32m528\u001b[39m     \u001b[38;5;28;01mreturn\u001b[39;00m \u001b[38;5;28;43mself\u001b[39;49m\u001b[43m.\u001b[49m\u001b[43m_decode\u001b[49m\u001b[43m(\u001b[49m\u001b[43mobj\u001b[49m\u001b[43m)\u001b[49m\n\u001b[32m    529\u001b[39m \u001b[38;5;28;01mfinally\u001b[39;00m:\n\u001b[32m    530\u001b[39m     \u001b[38;5;28mself\u001b[39m._buffers.clear()\n",
      "\u001b[36mFile \u001b[39m\u001b[32mc:\\Users\\User\\AppData\\Local\\pypoetry\\Cache\\virtualenvs\\visualisation-demo-cdwvYfXi-py3.12\\Lib\\site-packages\\bokeh\\core\\serialization.py:569\u001b[39m, in \u001b[36mDeserializer._decode\u001b[39m\u001b[34m(self, obj)\u001b[39m\n\u001b[32m    567\u001b[39m         \u001b[38;5;28;01mreturn\u001b[39;00m \u001b[38;5;28mself\u001b[39m._decode_ref(cast(Ref, obj))\n\u001b[32m    568\u001b[39m     \u001b[38;5;28;01melse\u001b[39;00m:\n\u001b[32m--> \u001b[39m\u001b[32m569\u001b[39m         \u001b[38;5;28;01mreturn\u001b[39;00m {key: \u001b[38;5;28;43mself\u001b[39;49m\u001b[43m.\u001b[49m\u001b[43m_decode\u001b[49m\u001b[43m(\u001b[49m\u001b[43mval\u001b[49m\u001b[43m)\u001b[49m \u001b[38;5;28;01mfor\u001b[39;00m key, val \u001b[38;5;129;01min\u001b[39;00m obj.items()}\n\u001b[32m    570\u001b[39m \u001b[38;5;28;01melif\u001b[39;00m \u001b[38;5;28misinstance\u001b[39m(obj, \u001b[38;5;28mlist\u001b[39m):\n\u001b[32m    571\u001b[39m     \u001b[38;5;28;01mreturn\u001b[39;00m [\u001b[38;5;28mself\u001b[39m._decode(entry) \u001b[38;5;28;01mfor\u001b[39;00m entry \u001b[38;5;129;01min\u001b[39;00m obj]\n",
      "\u001b[36mFile \u001b[39m\u001b[32mc:\\Users\\User\\AppData\\Local\\pypoetry\\Cache\\virtualenvs\\visualisation-demo-cdwvYfXi-py3.12\\Lib\\site-packages\\bokeh\\core\\serialization.py:567\u001b[39m, in \u001b[36mDeserializer._decode\u001b[39m\u001b[34m(self, obj)\u001b[39m\n\u001b[32m    565\u001b[39m             \u001b[38;5;28mself\u001b[39m.error(\u001b[33mf\u001b[39m\u001b[33m\"\u001b[39m\u001b[33munable to decode an object of type \u001b[39m\u001b[33m'\u001b[39m\u001b[38;5;132;01m{\u001b[39;00m\u001b[38;5;28mtype\u001b[39m\u001b[38;5;132;01m}\u001b[39;00m\u001b[33m'\u001b[39m\u001b[33m\"\u001b[39m)\n\u001b[32m    566\u001b[39m \u001b[38;5;28;01melif\u001b[39;00m \u001b[33m\"\u001b[39m\u001b[33mid\u001b[39m\u001b[33m\"\u001b[39m \u001b[38;5;129;01min\u001b[39;00m obj:\n\u001b[32m--> \u001b[39m\u001b[32m567\u001b[39m     \u001b[38;5;28;01mreturn\u001b[39;00m \u001b[38;5;28;43mself\u001b[39;49m\u001b[43m.\u001b[49m\u001b[43m_decode_ref\u001b[49m\u001b[43m(\u001b[49m\u001b[43mcast\u001b[49m\u001b[43m(\u001b[49m\u001b[43mRef\u001b[49m\u001b[43m,\u001b[49m\u001b[43m \u001b[49m\u001b[43mobj\u001b[49m\u001b[43m)\u001b[49m\u001b[43m)\u001b[49m\n\u001b[32m    568\u001b[39m \u001b[38;5;28;01melse\u001b[39;00m:\n\u001b[32m    569\u001b[39m     \u001b[38;5;28;01mreturn\u001b[39;00m {key: \u001b[38;5;28mself\u001b[39m._decode(val) \u001b[38;5;28;01mfor\u001b[39;00m key, val \u001b[38;5;129;01min\u001b[39;00m obj.items()}\n",
      "\u001b[36mFile \u001b[39m\u001b[32mc:\\Users\\User\\AppData\\Local\\pypoetry\\Cache\\virtualenvs\\visualisation-demo-cdwvYfXi-py3.12\\Lib\\site-packages\\bokeh\\core\\serialization.py:581\u001b[39m, in \u001b[36mDeserializer._decode_ref\u001b[39m\u001b[34m(self, obj)\u001b[39m\n\u001b[32m    579\u001b[39m     \u001b[38;5;28;01mreturn\u001b[39;00m instance\n\u001b[32m    580\u001b[39m \u001b[38;5;28;01melse\u001b[39;00m:\n\u001b[32m--> \u001b[39m\u001b[32m581\u001b[39m     \u001b[38;5;28;43mself\u001b[39;49m\u001b[43m.\u001b[49m\u001b[43merror\u001b[49m\u001b[43m(\u001b[49m\u001b[43mUnknownReferenceError\u001b[49m\u001b[43m(\u001b[49m\u001b[38;5;28;43mid\u001b[39;49m\u001b[43m)\u001b[49m\u001b[43m)\u001b[49m\n",
      "\u001b[36mFile \u001b[39m\u001b[32mc:\\Users\\User\\AppData\\Local\\pypoetry\\Cache\\virtualenvs\\visualisation-demo-cdwvYfXi-py3.12\\Lib\\site-packages\\bokeh\\core\\serialization.py:732\u001b[39m, in \u001b[36mDeserializer.error\u001b[39m\u001b[34m(self, error)\u001b[39m\n\u001b[32m    730\u001b[39m     \u001b[38;5;28;01mraise\u001b[39;00m DeserializationError(error)\n\u001b[32m    731\u001b[39m \u001b[38;5;28;01melse\u001b[39;00m:\n\u001b[32m--> \u001b[39m\u001b[32m732\u001b[39m     \u001b[38;5;28;01mraise\u001b[39;00m error\n",
      "\u001b[31mUnknownReferenceError\u001b[39m: can't resolve reference '2ad1140e-144f-489f-bce8-c15b7ee51940'"
     ]
    },
    {
     "ename": "UnknownReferenceError",
     "evalue": "can't resolve reference '2ad1140e-144f-489f-bce8-c15b7ee51940'",
     "output_type": "error",
     "traceback": [
      "\u001b[31m---------------------------------------------------------------------------\u001b[39m",
      "\u001b[31mUnknownReferenceError\u001b[39m                     Traceback (most recent call last)",
      "\u001b[36mFile \u001b[39m\u001b[32mc:\\Users\\User\\AppData\\Local\\pypoetry\\Cache\\virtualenvs\\visualisation-demo-cdwvYfXi-py3.12\\Lib\\site-packages\\jupyter_bokeh\\widgets.py:135\u001b[39m, in \u001b[36mBokehModel._sync_model\u001b[39m\u001b[34m(self, _model, content, _buffers)\u001b[39m\n\u001b[32m    133\u001b[39m \u001b[38;5;28;01massert\u001b[39;00m \u001b[38;5;28mself\u001b[39m._document \u001b[38;5;129;01mis\u001b[39;00m \u001b[38;5;129;01mnot\u001b[39;00m \u001b[38;5;28;01mNone\u001b[39;00m\n\u001b[32m    134\u001b[39m deserializer = Deserializer(\u001b[38;5;28mlist\u001b[39m(\u001b[38;5;28mself\u001b[39m._document.models), setter=setter)\n\u001b[32m--> \u001b[39m\u001b[32m135\u001b[39m event = \u001b[43mdeserializer\u001b[49m\u001b[43m.\u001b[49m\u001b[43mdeserialize\u001b[49m\u001b[43m(\u001b[49m\u001b[43mSerialized\u001b[49m\u001b[43m(\u001b[49m\u001b[43mcontent\u001b[49m\u001b[43m=\u001b[49m\u001b[43mcontent\u001b[49m\u001b[43m,\u001b[49m\u001b[43m \u001b[49m\u001b[43mbuffers\u001b[49m\u001b[43m=\u001b[49m\u001b[43m[\u001b[49m\u001b[43m]\u001b[49m\u001b[43m)\u001b[49m\u001b[43m)\u001b[49m\n\u001b[32m    137\u001b[39m kind = event[\u001b[33m\"\u001b[39m\u001b[33mkind\u001b[39m\u001b[33m\"\u001b[39m]\n\u001b[32m    138\u001b[39m \u001b[38;5;28;01mif\u001b[39;00m kind == \u001b[33m\"\u001b[39m\u001b[33mModelChanged\u001b[39m\u001b[33m\"\u001b[39m:\n",
      "\u001b[36mFile \u001b[39m\u001b[32mc:\\Users\\User\\AppData\\Local\\pypoetry\\Cache\\virtualenvs\\visualisation-demo-cdwvYfXi-py3.12\\Lib\\site-packages\\bokeh\\core\\serialization.py:513\u001b[39m, in \u001b[36mDeserializer.deserialize\u001b[39m\u001b[34m(self, obj)\u001b[39m\n\u001b[32m    511\u001b[39m \u001b[38;5;28;01mdef\u001b[39;00m\u001b[38;5;250m \u001b[39m\u001b[34mdeserialize\u001b[39m(\u001b[38;5;28mself\u001b[39m, obj: Any | Serialized[Any]) -> Any:\n\u001b[32m    512\u001b[39m     \u001b[38;5;28;01mif\u001b[39;00m \u001b[38;5;28misinstance\u001b[39m(obj, Serialized):\n\u001b[32m--> \u001b[39m\u001b[32m513\u001b[39m         \u001b[38;5;28;01mreturn\u001b[39;00m \u001b[38;5;28;43mself\u001b[39;49m\u001b[43m.\u001b[49m\u001b[43mdecode\u001b[49m\u001b[43m(\u001b[49m\u001b[43mobj\u001b[49m\u001b[43m.\u001b[49m\u001b[43mcontent\u001b[49m\u001b[43m,\u001b[49m\u001b[43m \u001b[49m\u001b[43mobj\u001b[49m\u001b[43m.\u001b[49m\u001b[43mbuffers\u001b[49m\u001b[43m)\u001b[49m\n\u001b[32m    514\u001b[39m     \u001b[38;5;28;01melse\u001b[39;00m:\n\u001b[32m    515\u001b[39m         \u001b[38;5;28;01mreturn\u001b[39;00m \u001b[38;5;28mself\u001b[39m.decode(obj)\n",
      "\u001b[36mFile \u001b[39m\u001b[32mc:\\Users\\User\\AppData\\Local\\pypoetry\\Cache\\virtualenvs\\visualisation-demo-cdwvYfXi-py3.12\\Lib\\site-packages\\bokeh\\core\\serialization.py:528\u001b[39m, in \u001b[36mDeserializer.decode\u001b[39m\u001b[34m(self, obj, buffers)\u001b[39m\n\u001b[32m    525\u001b[39m \u001b[38;5;28mself\u001b[39m._decoding = \u001b[38;5;28;01mTrue\u001b[39;00m\n\u001b[32m    527\u001b[39m \u001b[38;5;28;01mtry\u001b[39;00m:\n\u001b[32m--> \u001b[39m\u001b[32m528\u001b[39m     \u001b[38;5;28;01mreturn\u001b[39;00m \u001b[38;5;28;43mself\u001b[39;49m\u001b[43m.\u001b[49m\u001b[43m_decode\u001b[49m\u001b[43m(\u001b[49m\u001b[43mobj\u001b[49m\u001b[43m)\u001b[49m\n\u001b[32m    529\u001b[39m \u001b[38;5;28;01mfinally\u001b[39;00m:\n\u001b[32m    530\u001b[39m     \u001b[38;5;28mself\u001b[39m._buffers.clear()\n",
      "\u001b[36mFile \u001b[39m\u001b[32mc:\\Users\\User\\AppData\\Local\\pypoetry\\Cache\\virtualenvs\\visualisation-demo-cdwvYfXi-py3.12\\Lib\\site-packages\\bokeh\\core\\serialization.py:569\u001b[39m, in \u001b[36mDeserializer._decode\u001b[39m\u001b[34m(self, obj)\u001b[39m\n\u001b[32m    567\u001b[39m         \u001b[38;5;28;01mreturn\u001b[39;00m \u001b[38;5;28mself\u001b[39m._decode_ref(cast(Ref, obj))\n\u001b[32m    568\u001b[39m     \u001b[38;5;28;01melse\u001b[39;00m:\n\u001b[32m--> \u001b[39m\u001b[32m569\u001b[39m         \u001b[38;5;28;01mreturn\u001b[39;00m {key: \u001b[38;5;28;43mself\u001b[39;49m\u001b[43m.\u001b[49m\u001b[43m_decode\u001b[49m\u001b[43m(\u001b[49m\u001b[43mval\u001b[49m\u001b[43m)\u001b[49m \u001b[38;5;28;01mfor\u001b[39;00m key, val \u001b[38;5;129;01min\u001b[39;00m obj.items()}\n\u001b[32m    570\u001b[39m \u001b[38;5;28;01melif\u001b[39;00m \u001b[38;5;28misinstance\u001b[39m(obj, \u001b[38;5;28mlist\u001b[39m):\n\u001b[32m    571\u001b[39m     \u001b[38;5;28;01mreturn\u001b[39;00m [\u001b[38;5;28mself\u001b[39m._decode(entry) \u001b[38;5;28;01mfor\u001b[39;00m entry \u001b[38;5;129;01min\u001b[39;00m obj]\n",
      "\u001b[36mFile \u001b[39m\u001b[32mc:\\Users\\User\\AppData\\Local\\pypoetry\\Cache\\virtualenvs\\visualisation-demo-cdwvYfXi-py3.12\\Lib\\site-packages\\bokeh\\core\\serialization.py:567\u001b[39m, in \u001b[36mDeserializer._decode\u001b[39m\u001b[34m(self, obj)\u001b[39m\n\u001b[32m    565\u001b[39m             \u001b[38;5;28mself\u001b[39m.error(\u001b[33mf\u001b[39m\u001b[33m\"\u001b[39m\u001b[33munable to decode an object of type \u001b[39m\u001b[33m'\u001b[39m\u001b[38;5;132;01m{\u001b[39;00m\u001b[38;5;28mtype\u001b[39m\u001b[38;5;132;01m}\u001b[39;00m\u001b[33m'\u001b[39m\u001b[33m\"\u001b[39m)\n\u001b[32m    566\u001b[39m \u001b[38;5;28;01melif\u001b[39;00m \u001b[33m\"\u001b[39m\u001b[33mid\u001b[39m\u001b[33m\"\u001b[39m \u001b[38;5;129;01min\u001b[39;00m obj:\n\u001b[32m--> \u001b[39m\u001b[32m567\u001b[39m     \u001b[38;5;28;01mreturn\u001b[39;00m \u001b[38;5;28;43mself\u001b[39;49m\u001b[43m.\u001b[49m\u001b[43m_decode_ref\u001b[49m\u001b[43m(\u001b[49m\u001b[43mcast\u001b[49m\u001b[43m(\u001b[49m\u001b[43mRef\u001b[49m\u001b[43m,\u001b[49m\u001b[43m \u001b[49m\u001b[43mobj\u001b[49m\u001b[43m)\u001b[49m\u001b[43m)\u001b[49m\n\u001b[32m    568\u001b[39m \u001b[38;5;28;01melse\u001b[39;00m:\n\u001b[32m    569\u001b[39m     \u001b[38;5;28;01mreturn\u001b[39;00m {key: \u001b[38;5;28mself\u001b[39m._decode(val) \u001b[38;5;28;01mfor\u001b[39;00m key, val \u001b[38;5;129;01min\u001b[39;00m obj.items()}\n",
      "\u001b[36mFile \u001b[39m\u001b[32mc:\\Users\\User\\AppData\\Local\\pypoetry\\Cache\\virtualenvs\\visualisation-demo-cdwvYfXi-py3.12\\Lib\\site-packages\\bokeh\\core\\serialization.py:581\u001b[39m, in \u001b[36mDeserializer._decode_ref\u001b[39m\u001b[34m(self, obj)\u001b[39m\n\u001b[32m    579\u001b[39m     \u001b[38;5;28;01mreturn\u001b[39;00m instance\n\u001b[32m    580\u001b[39m \u001b[38;5;28;01melse\u001b[39;00m:\n\u001b[32m--> \u001b[39m\u001b[32m581\u001b[39m     \u001b[38;5;28;43mself\u001b[39;49m\u001b[43m.\u001b[49m\u001b[43merror\u001b[49m\u001b[43m(\u001b[49m\u001b[43mUnknownReferenceError\u001b[49m\u001b[43m(\u001b[49m\u001b[38;5;28;43mid\u001b[39;49m\u001b[43m)\u001b[49m\u001b[43m)\u001b[49m\n",
      "\u001b[36mFile \u001b[39m\u001b[32mc:\\Users\\User\\AppData\\Local\\pypoetry\\Cache\\virtualenvs\\visualisation-demo-cdwvYfXi-py3.12\\Lib\\site-packages\\bokeh\\core\\serialization.py:732\u001b[39m, in \u001b[36mDeserializer.error\u001b[39m\u001b[34m(self, error)\u001b[39m\n\u001b[32m    730\u001b[39m     \u001b[38;5;28;01mraise\u001b[39;00m DeserializationError(error)\n\u001b[32m    731\u001b[39m \u001b[38;5;28;01melse\u001b[39;00m:\n\u001b[32m--> \u001b[39m\u001b[32m732\u001b[39m     \u001b[38;5;28;01mraise\u001b[39;00m error\n",
      "\u001b[31mUnknownReferenceError\u001b[39m: can't resolve reference '2ad1140e-144f-489f-bce8-c15b7ee51940'"
     ]
    }
   ],
   "source": [
    "@pn.depends(uni_select, year_slider, degree_multi_select)\n",
    "def error_bars_plot(uni_select, year_slider, degree_multi_select):\n",
    "  df4 = df.copy()\n",
    "\n",
    "  # Prepare the data for the plot\n",
    "  df4['year'] = df4['year'].dt.strftime(\"%Y\")\n",
    "  df4 = df4[\n",
    "    (df4['university'] == uni_select) &\n",
    "    (df4['year'] == str(year_slider[1].year)) &\n",
    "    (df4['degree'].isin(degree_multi_select))\n",
    "  ]\n",
    "\n",
    "  # Filter out degrees that have both advanced degrees\n",
    "  adv_filter = df4.groupby('degree').count().reset_index()\n",
    "  adv_filter = list(adv_filter[adv_filter['advanced'] == 2]['degree'])\n",
    "  df4 = df4[df4['degree'].isin(adv_filter)]\n",
    "\n",
    "  # Pivot dataframe into the advanced and not advanced columns\n",
    "  df4 = df4.pivot(index='degree', values='basic_monthly_mean', columns='advanced').reset_index()\n",
    "  df4 = df4.rename({0: 'start', 1: 'end'}, axis=1)\n",
    "\n",
    "  # Create the dumbbell plot\n",
    "  ## Scatter plot points for advanced and not advanced values\n",
    "  start_points = df4.hvplot.scatter(\n",
    "    x='start',\n",
    "    y='degree',\n",
    "    color=\"#39b9e8\",\n",
    "    size=100\n",
    "  )\n",
    "  end_points = df4.hvplot.scatter(\n",
    "    x='end',\n",
    "    y='degree',\n",
    "    color=\"#91dc4c\",\n",
    "    size=100\n",
    "  )\n",
    "\n",
    "  # Create line segments connecting the points\n",
    "  segments = hv.Segments([\n",
    "    (\n",
    "      df4.loc[i, \"start\"],\n",
    "      df4.loc[i, \"degree\"], \n",
    "      df4.loc[i, \"end\"],\n",
    "      df4.loc[i, \"degree\"]\n",
    "    ) \n",
    "  for i in df4.index]).opts(color=\"black\", line_width=2)\n",
    "\n",
    "  # Combine plots\n",
    "  dumbbell = (segments * start_points * end_points) \\\n",
    "    .opts(\n",
    "      title=f\"Difference in Mean Monthly Salary for Jobs \\nwith Different Qualification Levels in {year_slider[1].year}\",\n",
    "      xlabel=\"Degree\",\n",
    "      ylabel=\"Mean Monthly Salary\"\n",
    "    )\n",
    "\n",
    "  return dumbbell\n",
    "\n",
    "# Create layout\n",
    "layout = pn.Column(\n",
    "  pn.Row(uni_select),\n",
    "  pn.Row(year_slider, degree_multi_select),\n",
    "  error_bars_plot\n",
    ")\n",
    "\n",
    "# Display\n",
    "layout"
   ]
  }
 ],
 "metadata": {
  "kernelspec": {
   "display_name": "visualisation-demo-cdwvYfXi-py3.12",
   "language": "python",
   "name": "python3"
  },
  "language_info": {
   "codemirror_mode": {
    "name": "ipython",
    "version": 3
   },
   "file_extension": ".py",
   "mimetype": "text/x-python",
   "name": "python",
   "nbconvert_exporter": "python",
   "pygments_lexer": "ipython3",
   "version": "3.12.4"
  }
 },
 "nbformat": 4,
 "nbformat_minor": 2
}
